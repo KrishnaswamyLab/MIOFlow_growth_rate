{
 "cells": [
  {
   "cell_type": "code",
   "execution_count": 1,
   "metadata": {},
   "outputs": [],
   "source": [
    "from MIOFlow.models import make_model\n",
    "import torch"
   ]
  },
  {
   "cell_type": "code",
   "execution_count": 18,
   "metadata": {},
   "outputs": [],
   "source": [
    "batch_size = 32\n",
    "feature_dim = 3\n",
    "output_dim = 3\n",
    "\n",
    "x = torch.randn(batch_size, feature_dim)\n",
    "# m0 = torch.ones(batch_size, 1)\n",
    "# xm = torch.cat([x, m0], dim=1)\n",
    "t = torch.linspace(0, 1, 7)\n",
    "\n",
    "model = make_model(feature_dims=feature_dim, which='ode_growth_rate')"
   ]
  },
  {
   "cell_type": "code",
   "execution_count": 49,
   "metadata": {},
   "outputs": [],
   "source": [
    "m0 = (torch.log(p) - torch.log(p).mean())"
   ]
  },
  {
   "cell_type": "code",
   "execution_count": 52,
   "metadata": {},
   "outputs": [],
   "source": [
    "pm = torch.nn.functional.softmax(m0, dim=-1)"
   ]
  },
  {
   "cell_type": "code",
   "execution_count": 53,
   "metadata": {},
   "outputs": [
    {
     "data": {
      "text/plain": [
       "<matplotlib.collections.PathCollection at 0x15b1fb050>"
      ]
     },
     "execution_count": 53,
     "metadata": {},
     "output_type": "execute_result"
    },
    {
     "data": {
      "image/png": "[encoded data removed]",
      "text/plain": [
       "<Figure size 640x480 with 1 Axes>"
      ]
     },
     "metadata": {},
     "output_type": "display_data"
    }
   ],
   "source": [
    "import matplotlib.pyplot as plt\n",
    "plt.scatter(p, pm)"
   ]
  },
  {
   "cell_type": "code",
   "execution_count": 26,
   "metadata": {},
   "outputs": [],
   "source": [
    "from MIOFlow.utils import kde\n",
    "p = kde(x)\n",
    "xt, mt = model(x, t, m0=torch.log(p))"
   ]
  },
  {
   "cell_type": "code",
   "execution_count": 27,
   "metadata": {},
   "outputs": [
    {
     "data": {
      "text/plain": [
       "tensor([-3.4163, -3.6320, -3.1697, -2.7523, -4.5705, -4.0300, -3.2650, -2.6629,\n",
       "        -4.4293, -3.7073, -3.3754, -3.9927, -3.4908, -3.2068, -2.7580, -2.9717,\n",
       "        -3.7847, -3.9278, -3.7643, -2.8109, -4.3638, -2.6927, -4.1361, -2.6259,\n",
       "        -3.8673, -5.3358, -4.8274, -3.0422, -2.9336, -3.7751, -4.3637, -3.9938],\n",
       "       grad_fn=<SelectBackward0>)"
      ]
     },
     "execution_count": 27,
     "metadata": {},
     "output_type": "execute_result"
    }
   ],
   "source": [
    "mt"
   ]
  },
  {
   "cell_type": "code",
   "execution_count": 28,
   "metadata": {},
   "outputs": [],
   "source": [
    "xt, mt = model(x, t)"
   ]
  },
  {
   "cell_type": "code",
   "execution_count": 29,
   "metadata": {},
   "outputs": [
    {
     "data": {
      "text/plain": [
       "tensor([ 0.0031,  0.1145,  0.2209,  0.0943, -0.4582,  0.0901, -0.0463,  0.0178,\n",
       "        -0.1957, -0.1626, -0.1342,  0.0520,  0.1155,  0.2234,  0.1529,  0.1413,\n",
       "        -0.1297, -0.0389,  0.0546,  0.1499, -0.3348, -0.0015, -0.0732,  0.0518,\n",
       "         0.3107, -0.5655, -0.2961, -0.1147,  0.2331,  0.1677, -0.4319,  0.1902],\n",
       "       grad_fn=<SelectBackward0>)"
      ]
     },
     "execution_count": 29,
     "metadata": {},
     "output_type": "execute_result"
    }
   ],
   "source": [
    "mt"
   ]
  },
  {
   "cell_type": "code",
   "execution_count": 22,
   "metadata": {},
   "outputs": [],
   "source": [
    "xtseq, mtseq = model(x, t, return_whole_sequence=True)"
   ]
  },
  {
   "cell_type": "code",
   "execution_count": 21,
   "metadata": {},
   "outputs": [],
   "source": [
    "xtseq, mtseq = model(x, t, return_whole_sequence=True, m0=p)"
   ]
  },
  {
   "cell_type": "code",
   "execution_count": 14,
   "metadata": {},
   "outputs": [],
   "source": [
    "model = make_model(feature_dims=feature_dim, which='sde_growth_rate', noise_type='diagonal', sde_type='ito', method='euler')"
   ]
  },
  {
   "cell_type": "code",
   "execution_count": 15,
   "metadata": {},
   "outputs": [],
   "source": [
    "from MIOFlow.utils import kde\n",
    "p = kde(x)\n",
    "xt, mt = model(x, t, m0=p)"
   ]
  },
  {
   "cell_type": "code",
   "execution_count": null,
   "metadata": {},
   "outputs": [],
   "source": []
  }
 ],
 "metadata": {
  "kernelspec": {
   "display_name": "Python 3",
   "language": "python",
   "name": "python3"
  },
  "language_info": {
   "codemirror_mode": {
    "name": "ipython",
    "version": 3
   },
   "file_extension": ".py",
   "mimetype": "text/x-python",
   "name": "python",
   "nbconvert_exporter": "python",
   "pygments_lexer": "ipython3",
   "version": "3.11.5"
  }
 },
 "nbformat": 4,
 "nbformat_minor": 2
}
