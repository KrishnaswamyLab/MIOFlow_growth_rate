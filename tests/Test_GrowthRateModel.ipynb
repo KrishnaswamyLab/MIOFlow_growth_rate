{
 "cells": [
  {
   "cell_type": "code",
   "execution_count": 1,
   "metadata": {},
   "outputs": [],
   "source": [
    "from MIOFlow.models import make_model\n",
    "import torch"
   ]
  },
  {
   "cell_type": "code",
   "execution_count": 2,
   "metadata": {},
   "outputs": [],
   "source": [
    "batch_size = 4\n",
    "feature_dim = 5\n",
    "output_dim = 5\n",
    "\n",
    "x = torch.randn(batch_size, feature_dim)\n",
    "# m0 = torch.ones(batch_size, 1)\n",
    "# xm = torch.cat([x, m0], dim=1)\n",
    "t = torch.linspace(0, 1, 7)\n",
    "\n",
    "model = make_model(feature_dims=feature_dim, which='ode_growth_rate')"
   ]
  },
  {
   "cell_type": "code",
   "execution_count": 3,
   "metadata": {},
   "outputs": [],
   "source": [
    "xt, mt = model(x, t)"
   ]
  },
  {
   "cell_type": "code",
   "execution_count": 4,
   "metadata": {},
   "outputs": [
    {
     "data": {
      "text/plain": [
       "(torch.Size([4, 5]), torch.Size([4]))"
      ]
     },
     "execution_count": 4,
     "metadata": {},
     "output_type": "execute_result"
    }
   ],
   "source": [
    "xt.shape, mt.shape"
   ]
  },
  {
   "cell_type": "code",
   "execution_count": 5,
   "metadata": {},
   "outputs": [],
   "source": [
    "xtseq, mtseq = model(x, t, return_whole_sequence=True)"
   ]
  },
  {
   "cell_type": "code",
   "execution_count": 6,
   "metadata": {},
   "outputs": [
    {
     "data": {
      "text/plain": [
       "torch.Size([7, 4, 5])"
      ]
     },
     "execution_count": 6,
     "metadata": {},
     "output_type": "execute_result"
    }
   ],
   "source": [
    "xtseq.shape"
   ]
  },
  {
   "cell_type": "code",
   "execution_count": 7,
   "metadata": {},
   "outputs": [
    {
     "data": {
      "text/plain": [
       "torch.Size([7, 4])"
      ]
     },
     "execution_count": 7,
     "metadata": {},
     "output_type": "execute_result"
    }
   ],
   "source": [
    "mtseq.shape"
   ]
  },
  {
   "cell_type": "code",
   "execution_count": 8,
   "metadata": {},
   "outputs": [
    {
     "data": {
      "text/plain": [
       "tensor([0.7505, 1.1888, 1.1637, 0.8970], grad_fn=<MulBackward0>)"
      ]
     },
     "execution_count": 8,
     "metadata": {},
     "output_type": "execute_result"
    }
   ],
   "source": [
    "torch.nn.functional.softmax(mt, dim=-1) * mt.shape[-1]"
   ]
  },
  {
   "cell_type": "code",
   "execution_count": 9,
   "metadata": {},
   "outputs": [
    {
     "data": {
      "text/plain": [
       "tensor([0.1876, 0.2972, 0.2909, 0.2242], grad_fn=<DivBackward0>)"
      ]
     },
     "execution_count": 9,
     "metadata": {},
     "output_type": "execute_result"
    }
   ],
   "source": [
    "torch.exp(mt)/torch.exp(mt).sum(dim=0)"
   ]
  },
  {
   "cell_type": "code",
   "execution_count": 10,
   "metadata": {},
   "outputs": [
    {
     "data": {
      "text/plain": [
       "tensor([[1.0000, 1.0000, 1.0000, 1.0000],\n",
       "        [0.9609, 1.0290, 1.0241, 0.9860],\n",
       "        [0.9211, 1.0584, 1.0493, 0.9711],\n",
       "        [0.8804, 1.0887, 1.0756, 0.9553],\n",
       "        [0.8383, 1.1206, 1.1033, 0.9378],\n",
       "        [0.7950, 1.1541, 1.1325, 0.9184],\n",
       "        [0.7505, 1.1888, 1.1637, 0.8970]], grad_fn=<MulBackward0>)"
      ]
     },
     "execution_count": 10,
     "metadata": {},
     "output_type": "execute_result"
    }
   ],
   "source": [
    "torch.nn.functional.softmax(mtseq, dim=-1) * mtseq.shape[-1]"
   ]
  },
  {
   "cell_type": "code",
   "execution_count": 11,
   "metadata": {},
   "outputs": [
    {
     "data": {
      "text/plain": [
       "torch.Size([7, 4, 5])"
      ]
     },
     "execution_count": 11,
     "metadata": {},
     "output_type": "execute_result"
    }
   ],
   "source": [
    "xtseq.shape"
   ]
  },
  {
   "cell_type": "code",
   "execution_count": 12,
   "metadata": {},
   "outputs": [
    {
     "data": {
      "text/plain": [
       "torch.Size([7, 4, 1])"
      ]
     },
     "execution_count": 12,
     "metadata": {},
     "output_type": "execute_result"
    }
   ],
   "source": [
    "mtseq.unsqueeze(2).shape"
   ]
  },
  {
   "cell_type": "code",
   "execution_count": 13,
   "metadata": {},
   "outputs": [
    {
     "data": {
      "text/plain": [
       "torch.Size([7, 4, 6])"
      ]
     },
     "execution_count": 13,
     "metadata": {},
     "output_type": "execute_result"
    }
   ],
   "source": [
    "xmseq = torch.cat([xtseq, mtseq.unsqueeze(2)], dim=-1)\n",
    "xmseq.shape"
   ]
  },
  {
   "cell_type": "code",
   "execution_count": 14,
   "metadata": {},
   "outputs": [],
   "source": [
    "dxdts = torch.stack([model.func(t[i], xmseq[i]) for i in range(len(t))])"
   ]
  },
  {
   "cell_type": "code",
   "execution_count": 15,
   "metadata": {},
   "outputs": [
    {
     "data": {
      "text/plain": [
       "torch.Size([7, 4, 6])"
      ]
     },
     "execution_count": 15,
     "metadata": {},
     "output_type": "execute_result"
    }
   ],
   "source": [
    "dxdts.shape"
   ]
  },
  {
   "cell_type": "code",
   "execution_count": 16,
   "metadata": {},
   "outputs": [
    {
     "data": {
      "text/plain": [
       "torch.Size([4, 1])"
      ]
     },
     "execution_count": 16,
     "metadata": {},
     "output_type": "execute_result"
    }
   ],
   "source": [
    "mt.unsqueeze(1).shape"
   ]
  },
  {
   "cell_type": "code",
   "execution_count": 17,
   "metadata": {},
   "outputs": [
    {
     "data": {
      "text/plain": [
       "ToyODE(\n",
       "  (seq): Sequential(\n",
       "    (0): Linear(in_features=9, out_features=64, bias=True)\n",
       "    (1): ReLU()\n",
       "    (2): Linear(in_features=64, out_features=6, bias=True)\n",
       "  )\n",
       ")"
      ]
     },
     "execution_count": 17,
     "metadata": {},
     "output_type": "execute_result"
    }
   ],
   "source": [
    "model.func"
   ]
  },
  {
   "cell_type": "code",
   "execution_count": 18,
   "metadata": {},
   "outputs": [
    {
     "data": {
      "text/plain": [
       "torch.Size([4, 5])"
      ]
     },
     "execution_count": 18,
     "metadata": {},
     "output_type": "execute_result"
    }
   ],
   "source": [
    "xt.shape"
   ]
  },
  {
   "cell_type": "code",
   "execution_count": 19,
   "metadata": {},
   "outputs": [
    {
     "data": {
      "text/plain": [
       "torch.Size([4])"
      ]
     },
     "execution_count": 19,
     "metadata": {},
     "output_type": "execute_result"
    }
   ],
   "source": [
    "mt.shape"
   ]
  },
  {
   "cell_type": "code",
   "execution_count": 20,
   "metadata": {},
   "outputs": [],
   "source": [
    "xm = torch.cat([xt, mt.unsqueeze(-1)], dim=-1)\n",
    "dxdt = model.func(t[-1], xm)"
   ]
  },
  {
   "cell_type": "code",
   "execution_count": 21,
   "metadata": {},
   "outputs": [
    {
     "data": {
      "text/plain": [
       "torch.Size([4, 5])"
      ]
     },
     "execution_count": 21,
     "metadata": {},
     "output_type": "execute_result"
    }
   ],
   "source": [
    "dxdt[...,:-1].shape"
   ]
  },
  {
   "cell_type": "code",
   "execution_count": 22,
   "metadata": {},
   "outputs": [
    {
     "data": {
      "text/plain": [
       "torch.Size([7, 4])"
      ]
     },
     "execution_count": 22,
     "metadata": {},
     "output_type": "execute_result"
    }
   ],
   "source": [
    "mtseq.shape"
   ]
  },
  {
   "cell_type": "code",
   "execution_count": 23,
   "metadata": {},
   "outputs": [
    {
     "data": {
      "text/plain": [
       "torch.Size([7, 4, 5])"
      ]
     },
     "execution_count": 23,
     "metadata": {},
     "output_type": "execute_result"
    }
   ],
   "source": [
    "xtseq.shape"
   ]
  },
  {
   "cell_type": "code",
   "execution_count": 24,
   "metadata": {},
   "outputs": [
    {
     "data": {
      "text/plain": [
       "torch.Size([7])"
      ]
     },
     "execution_count": 24,
     "metadata": {},
     "output_type": "execute_result"
    }
   ],
   "source": [
    "t.shape"
   ]
  },
  {
   "cell_type": "code",
   "execution_count": 25,
   "metadata": {},
   "outputs": [
    {
     "data": {
      "text/plain": [
       "tensor([0.0000, 0.1667, 0.3333])"
      ]
     },
     "execution_count": 25,
     "metadata": {},
     "output_type": "execute_result"
    }
   ],
   "source": [
    "t[[0,1,2],...]"
   ]
  },
  {
   "cell_type": "code",
   "execution_count": 26,
   "metadata": {},
   "outputs": [
    {
     "data": {
      "text/plain": [
       "torch.Size([4])"
      ]
     },
     "execution_count": 26,
     "metadata": {},
     "output_type": "execute_result"
    }
   ],
   "source": [
    "mt.shape"
   ]
  },
  {
   "cell_type": "code",
   "execution_count": 27,
   "metadata": {},
   "outputs": [
    {
     "data": {
      "text/plain": [
       "torch.Size([4, 6])"
      ]
     },
     "execution_count": 27,
     "metadata": {},
     "output_type": "execute_result"
    }
   ],
   "source": [
    "(dxdt * mt.unsqueeze(-1)).shape"
   ]
  },
  {
   "cell_type": "code",
   "execution_count": 28,
   "metadata": {},
   "outputs": [
    {
     "data": {
      "text/plain": [
       "torch.Size([7, 4, 6])"
      ]
     },
     "execution_count": 28,
     "metadata": {},
     "output_type": "execute_result"
    }
   ],
   "source": [
    "dxdts.shape"
   ]
  },
  {
   "cell_type": "code",
   "execution_count": 29,
   "metadata": {},
   "outputs": [
    {
     "data": {
      "text/plain": [
       "torch.Size([7, 4])"
      ]
     },
     "execution_count": 29,
     "metadata": {},
     "output_type": "execute_result"
    }
   ],
   "source": [
    "mtseq.shape"
   ]
  },
  {
   "cell_type": "code",
   "execution_count": 30,
   "metadata": {},
   "outputs": [
    {
     "data": {
      "text/plain": [
       "torch.Size([7, 4, 6])"
      ]
     },
     "execution_count": 30,
     "metadata": {},
     "output_type": "execute_result"
    }
   ],
   "source": [
    "(dxdts * mtseq.unsqueeze(-1)).shape"
   ]
  },
  {
   "cell_type": "code",
   "execution_count": 31,
   "metadata": {},
   "outputs": [
    {
     "data": {
      "text/plain": [
       "torch.Size([7, 4])"
      ]
     },
     "execution_count": 31,
     "metadata": {},
     "output_type": "execute_result"
    }
   ],
   "source": [
    "torch.nn.functional.softmax(mtseq, dim=-1).shape"
   ]
  },
  {
   "cell_type": "code",
   "execution_count": 32,
   "metadata": {},
   "outputs": [
    {
     "data": {
      "text/plain": [
       "4"
      ]
     },
     "execution_count": 32,
     "metadata": {},
     "output_type": "execute_result"
    }
   ],
   "source": [
    "mtseq.shape[-1]"
   ]
  },
  {
   "cell_type": "code",
   "execution_count": 33,
   "metadata": {},
   "outputs": [
    {
     "data": {
      "text/plain": [
       "torch.Size([4])"
      ]
     },
     "execution_count": 33,
     "metadata": {},
     "output_type": "execute_result"
    }
   ],
   "source": [
    "torch.nn.functional.softmax(mt, dim=-1).shape"
   ]
  },
  {
   "cell_type": "code",
   "execution_count": 34,
   "metadata": {},
   "outputs": [
    {
     "data": {
      "text/plain": [
       "4"
      ]
     },
     "execution_count": 34,
     "metadata": {},
     "output_type": "execute_result"
    }
   ],
   "source": [
    "mt.shape[-1]"
   ]
  },
  {
   "cell_type": "code",
   "execution_count": 35,
   "metadata": {},
   "outputs": [
    {
     "data": {
      "text/plain": [
       "torch.Size([4, 6])"
      ]
     },
     "execution_count": 35,
     "metadata": {},
     "output_type": "execute_result"
    }
   ],
   "source": [
    "def func_end_0(t, x):\n",
    "    xm = model.func(t, x)\n",
    "# mt[[0,2,4,6,8]] = 0.\n",
    "model.func(t[-1], xm).shape"
   ]
  },
  {
   "cell_type": "code",
   "execution_count": 36,
   "metadata": {},
   "outputs": [
    {
     "data": {
      "text/plain": [
       "torch.Size([4])"
      ]
     },
     "execution_count": 36,
     "metadata": {},
     "output_type": "execute_result"
    }
   ],
   "source": [
    "xm[...,-1].shape"
   ]
  },
  {
   "cell_type": "code",
   "execution_count": 37,
   "metadata": {},
   "outputs": [
    {
     "data": {
      "text/plain": [
       "torch.Size([4, 6])"
      ]
     },
     "execution_count": 37,
     "metadata": {},
     "output_type": "execute_result"
    }
   ],
   "source": [
    "xm.shape"
   ]
  },
  {
   "cell_type": "code",
   "execution_count": 38,
   "metadata": {},
   "outputs": [
    {
     "data": {
      "text/plain": [
       "torch.Size([7, 4, 6])"
      ]
     },
     "execution_count": 38,
     "metadata": {},
     "output_type": "execute_result"
    }
   ],
   "source": [
    "xmseq.shape"
   ]
  },
  {
   "cell_type": "code",
   "execution_count": 39,
   "metadata": {},
   "outputs": [],
   "source": [
    "xm[[0,2],-1] = 0."
   ]
  },
  {
   "cell_type": "code",
   "execution_count": 40,
   "metadata": {},
   "outputs": [
    {
     "data": {
      "text/plain": [
       "tensor([[ 1.5279,  0.4715, -0.9094, -0.2058,  2.3502,  0.0000],\n",
       "        [-0.9513, -0.0902,  0.4583,  2.2913,  1.4278,  1.4056],\n",
       "        [ 0.8226,  2.1026,  1.3879,  0.6041,  2.0260,  0.0000],\n",
       "        [ 0.5811, -0.9234, -1.4337, -1.7217, -1.2556,  1.1239]],\n",
       "       grad_fn=<CopySlices>)"
      ]
     },
     "execution_count": 40,
     "metadata": {},
     "output_type": "execute_result"
    }
   ],
   "source": [
    "xm"
   ]
  },
  {
   "cell_type": "code",
   "execution_count": 41,
   "metadata": {},
   "outputs": [],
   "source": [
    "dxmdt = model.func(t[-1], xm)"
   ]
  },
  {
   "cell_type": "code",
   "execution_count": 42,
   "metadata": {},
   "outputs": [
    {
     "data": {
      "text/plain": [
       "tensor([[ 0.6087,  0.2030,  0.1904, -0.1467,  0.4246, -0.0695],\n",
       "        [ 0.1980,  0.0136,  0.2122, -0.0470,  0.1949,  0.3457],\n",
       "        [ 0.4026,  0.4142,  0.1505, -0.0345,  0.6536,  0.3309],\n",
       "        [ 0.1531, -0.0547, -0.0480, -0.0100, -0.2726,  0.1750]],\n",
       "       grad_fn=<AddmmBackward0>)"
      ]
     },
     "execution_count": 42,
     "metadata": {},
     "output_type": "execute_result"
    }
   ],
   "source": [
    "dxmdt"
   ]
  },
  {
   "cell_type": "code",
   "execution_count": 43,
   "metadata": {},
   "outputs": [
    {
     "data": {
      "text/plain": [
       "torch.Size([4, 6])"
      ]
     },
     "execution_count": 43,
     "metadata": {},
     "output_type": "execute_result"
    }
   ],
   "source": [
    "xm.shape"
   ]
  },
  {
   "cell_type": "code",
   "execution_count": 44,
   "metadata": {},
   "outputs": [
    {
     "data": {
      "text/plain": [
       "torch.Size([4, 5])"
      ]
     },
     "execution_count": 44,
     "metadata": {},
     "output_type": "execute_result"
    }
   ],
   "source": [
    "xt.shape"
   ]
  },
  {
   "cell_type": "code",
   "execution_count": 45,
   "metadata": {},
   "outputs": [
    {
     "data": {
      "text/plain": [
       "torch.Size([7, 4, 5])"
      ]
     },
     "execution_count": 45,
     "metadata": {},
     "output_type": "execute_result"
    }
   ],
   "source": [
    "xtseq.shape"
   ]
  },
  {
   "cell_type": "code",
   "execution_count": 46,
   "metadata": {},
   "outputs": [
    {
     "data": {
      "text/plain": [
       "torch.Size([4, 6])"
      ]
     },
     "execution_count": 46,
     "metadata": {},
     "output_type": "execute_result"
    }
   ],
   "source": [
    "xm.shape"
   ]
  },
  {
   "cell_type": "code",
   "execution_count": 47,
   "metadata": {},
   "outputs": [
    {
     "data": {
      "text/plain": [
       "torch.Size([7, 4, 6])"
      ]
     },
     "execution_count": 47,
     "metadata": {},
     "output_type": "execute_result"
    }
   ],
   "source": [
    "xmseq.shape"
   ]
  },
  {
   "cell_type": "code",
   "execution_count": 49,
   "metadata": {},
   "outputs": [
    {
     "data": {
      "text/plain": [
       "torch.Size([7, 4, 6])"
      ]
     },
     "execution_count": 49,
     "metadata": {},
     "output_type": "execute_result"
    }
   ],
   "source": [
    "xmseq.shape"
   ]
  },
  {
   "cell_type": "code",
   "execution_count": 50,
   "metadata": {},
   "outputs": [
    {
     "data": {
      "text/plain": [
       "torch.Size([4, 6])"
      ]
     },
     "execution_count": 50,
     "metadata": {},
     "output_type": "execute_result"
    }
   ],
   "source": [
    "xm.shape"
   ]
  },
  {
   "cell_type": "code",
   "execution_count": 54,
   "metadata": {},
   "outputs": [
    {
     "data": {
      "text/plain": [
       "torch.Size([7, 4, 5])"
      ]
     },
     "execution_count": 54,
     "metadata": {},
     "output_type": "execute_result"
    }
   ],
   "source": [
    "xtseq.shape"
   ]
  },
  {
   "cell_type": "code",
   "execution_count": 55,
   "metadata": {},
   "outputs": [
    {
     "data": {
      "text/plain": [
       "torch.Size([7, 4])"
      ]
     },
     "execution_count": 55,
     "metadata": {},
     "output_type": "execute_result"
    }
   ],
   "source": [
    "xtseq.norm(dim=-1).shape"
   ]
  },
  {
   "cell_type": "code",
   "execution_count": 64,
   "metadata": {},
   "outputs": [
    {
     "data": {
      "text/plain": [
       "torch.Size([7, 4, 5])"
      ]
     },
     "execution_count": 64,
     "metadata": {},
     "output_type": "execute_result"
    }
   ],
   "source": [
    "(xtseq / xtseq.norm(dim=-1, keepdim=True)).shape"
   ]
  },
  {
   "cell_type": "code",
   "execution_count": 65,
   "metadata": {},
   "outputs": [
    {
     "data": {
      "text/plain": [
       "torch.Size([6, 4, 5])"
      ]
     },
     "execution_count": 65,
     "metadata": {},
     "output_type": "execute_result"
    }
   ],
   "source": [
    "torch.diff(xtseq / xtseq.norm(dim=-1, keepdim=True), dim=0).shape"
   ]
  },
  {
   "cell_type": "code",
   "execution_count": 66,
   "metadata": {},
   "outputs": [
    {
     "data": {
      "text/plain": [
       "tensor([[[ 1.9382e-02,  5.0963e-03,  2.2639e-02, -1.7424e-02,  1.1753e-03],\n",
       "         [ 1.2942e-02, -4.2188e-03,  1.0558e-02,  7.7379e-04,  8.6896e-03],\n",
       "         [ 8.9051e-03, -2.8163e-03, -6.2940e-03, -1.0093e-02,  9.4221e-03],\n",
       "         [ 7.8263e-03,  1.2061e-02,  2.4964e-03,  2.7027e-03, -1.7407e-02]],\n",
       "\n",
       "        [[ 1.9138e-02,  5.0414e-03,  2.3193e-02, -1.4788e-02,  1.7363e-04],\n",
       "         [ 1.4647e-02, -3.6606e-03,  1.0864e-02,  5.4300e-04,  9.7533e-03],\n",
       "         [ 8.8417e-03, -3.0878e-03, -6.6915e-03, -9.5624e-03,  9.2970e-03],\n",
       "         [ 9.0909e-03,  1.0276e-02,  2.5969e-03,  4.1075e-03, -1.6378e-02]],\n",
       "\n",
       "        [[ 1.8720e-02,  4.9315e-03,  2.3322e-02, -1.2236e-02, -8.0264e-04],\n",
       "         [ 1.6208e-02, -3.1886e-03,  1.1015e-02,  2.5803e-04,  1.0587e-02],\n",
       "         [ 8.6409e-03, -3.1736e-03, -6.9879e-03, -9.1124e-03,  8.9894e-03],\n",
       "         [ 1.0227e-02,  8.8009e-03,  2.6943e-03,  5.2797e-03, -1.5431e-02]],\n",
       "\n",
       "        [[ 1.8165e-02,  4.8559e-03,  2.2949e-02, -9.9117e-03, -1.8041e-03],\n",
       "         [ 1.7726e-02, -2.6797e-03,  1.0888e-02, -2.9325e-05,  1.1256e-02],\n",
       "         [ 8.5723e-03, -3.1579e-03, -7.3227e-03, -8.8332e-03,  8.6390e-03],\n",
       "         [ 1.1377e-02,  7.5255e-03,  2.7838e-03,  6.2114e-03, -1.4339e-02]],\n",
       "\n",
       "        [[ 1.7572e-02,  4.9960e-03,  2.2509e-02, -7.9030e-03, -2.7230e-03],\n",
       "         [ 1.9228e-02, -2.0977e-03,  1.0705e-02, -4.1127e-04,  1.1892e-02],\n",
       "         [ 8.5244e-03, -3.0795e-03, -7.6720e-03, -8.5837e-03,  8.2524e-03],\n",
       "         [ 1.2467e-02,  6.2422e-03,  2.9267e-03,  7.0397e-03, -1.3225e-02]],\n",
       "\n",
       "        [[ 1.6875e-02,  5.1947e-03,  2.1649e-02, -6.2459e-03, -3.6527e-03],\n",
       "         [ 2.0787e-02, -1.4105e-03,  1.0433e-02, -9.0629e-04,  1.2579e-02],\n",
       "         [ 8.4312e-03, -3.0110e-03, -7.9547e-03, -8.3157e-03,  7.8602e-03],\n",
       "         [ 1.3308e-02,  4.9756e-03,  3.0605e-03,  7.7566e-03, -1.2095e-02]]],\n",
       "       grad_fn=<SubBackward0>)"
      ]
     },
     "execution_count": 66,
     "metadata": {},
     "output_type": "execute_result"
    }
   ],
   "source": [
    "torch.diff(xtseq / xtseq.norm(dim=-1, keepdim=True), dim=0)"
   ]
  },
  {
   "cell_type": "code",
   "execution_count": 68,
   "metadata": {},
   "outputs": [
    {
     "data": {
      "text/plain": [
       "tensor(0.0001, grad_fn=<MeanBackward0>)"
      ]
     },
     "execution_count": 68,
     "metadata": {},
     "output_type": "execute_result"
    }
   ],
   "source": [
    "torch.square(torch.diff(xtseq / xtseq.norm(dim=-1, keepdim=True), dim=0)).mean()"
   ]
  },
  {
   "cell_type": "code",
   "execution_count": 69,
   "metadata": {},
   "outputs": [
    {
     "data": {
      "text/plain": [
       "tensor([[[ 1.9382e-02,  5.0963e-03,  2.2639e-02, -1.7424e-02,  1.1753e-03],\n",
       "         [ 1.2942e-02, -4.2188e-03,  1.0558e-02,  7.7379e-04,  8.6896e-03],\n",
       "         [ 8.9051e-03, -2.8163e-03, -6.2940e-03, -1.0093e-02,  9.4221e-03],\n",
       "         [ 7.8263e-03,  1.2061e-02,  2.4964e-03,  2.7027e-03, -1.7407e-02]],\n",
       "\n",
       "        [[ 1.9138e-02,  5.0414e-03,  2.3193e-02, -1.4788e-02,  1.7363e-04],\n",
       "         [ 1.4647e-02, -3.6606e-03,  1.0864e-02,  5.4300e-04,  9.7533e-03],\n",
       "         [ 8.8417e-03, -3.0878e-03, -6.6915e-03, -9.5624e-03,  9.2970e-03],\n",
       "         [ 9.0909e-03,  1.0276e-02,  2.5969e-03,  4.1075e-03, -1.6378e-02]],\n",
       "\n",
       "        [[ 1.8720e-02,  4.9315e-03,  2.3322e-02, -1.2236e-02, -8.0264e-04],\n",
       "         [ 1.6208e-02, -3.1886e-03,  1.1015e-02,  2.5803e-04,  1.0587e-02],\n",
       "         [ 8.6409e-03, -3.1736e-03, -6.9879e-03, -9.1124e-03,  8.9894e-03],\n",
       "         [ 1.0227e-02,  8.8009e-03,  2.6943e-03,  5.2797e-03, -1.5431e-02]],\n",
       "\n",
       "        [[ 1.8165e-02,  4.8559e-03,  2.2949e-02, -9.9117e-03, -1.8041e-03],\n",
       "         [ 1.7726e-02, -2.6797e-03,  1.0888e-02, -2.9325e-05,  1.1256e-02],\n",
       "         [ 8.5723e-03, -3.1579e-03, -7.3227e-03, -8.8332e-03,  8.6390e-03],\n",
       "         [ 1.1377e-02,  7.5255e-03,  2.7838e-03,  6.2114e-03, -1.4339e-02]],\n",
       "\n",
       "        [[ 1.7572e-02,  4.9960e-03,  2.2509e-02, -7.9030e-03, -2.7230e-03],\n",
       "         [ 1.9228e-02, -2.0977e-03,  1.0705e-02, -4.1127e-04,  1.1892e-02],\n",
       "         [ 8.5244e-03, -3.0795e-03, -7.6720e-03, -8.5837e-03,  8.2524e-03],\n",
       "         [ 1.2467e-02,  6.2422e-03,  2.9267e-03,  7.0397e-03, -1.3225e-02]],\n",
       "\n",
       "        [[ 1.6875e-02,  5.1947e-03,  2.1649e-02, -6.2459e-03, -3.6527e-03],\n",
       "         [ 2.0787e-02, -1.4105e-03,  1.0433e-02, -9.0629e-04,  1.2579e-02],\n",
       "         [ 8.4312e-03, -3.0110e-03, -7.9547e-03, -8.3157e-03,  7.8602e-03],\n",
       "         [ 1.3308e-02,  4.9756e-03,  3.0605e-03,  7.7566e-03, -1.2095e-02]]],\n",
       "       grad_fn=<SubBackward0>)"
      ]
     },
     "execution_count": 69,
     "metadata": {},
     "output_type": "execute_result"
    }
   ],
   "source": [
    "torch.diff(xtseq / xtseq.norm(dim=-1, keepdim=True), dim=0)"
   ]
  },
  {
   "cell_type": "code",
   "execution_count": null,
   "metadata": {},
   "outputs": [],
   "source": []
  }
 ],
 "metadata": {
  "kernelspec": {
   "display_name": "Python 3",
   "language": "python",
   "name": "python3"
  },
  "language_info": {
   "codemirror_mode": {
    "name": "ipython",
    "version": 3
   },
   "file_extension": ".py",
   "mimetype": "text/x-python",
   "name": "python",
   "nbconvert_exporter": "python",
   "pygments_lexer": "ipython3",
   "version": "3.11.5"
  }
 },
 "nbformat": 4,
 "nbformat_minor": 2
}
