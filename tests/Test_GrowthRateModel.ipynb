{
 "cells": [
  {
   "cell_type": "code",
   "execution_count": 58,
   "metadata": {},
   "outputs": [],
   "source": [
    "from MIOFlow.models import make_model\n",
    "import torch"
   ]
  },
  {
   "cell_type": "code",
   "execution_count": 59,
   "metadata": {},
   "outputs": [],
   "source": [
    "batch_size = 4\n",
    "feature_dim = 5\n",
    "output_dim = 5\n",
    "\n",
    "x = torch.randn(batch_size, feature_dim)\n",
    "# m0 = torch.ones(batch_size, 1)\n",
    "# xm = torch.cat([x, m0], dim=1)\n",
    "t = torch.linspace(0, 1, 7)\n",
    "\n",
    "model = make_model(feature_dims=feature_dim, which='ode_growth_rate')"
   ]
  },
  {
   "cell_type": "code",
   "execution_count": 116,
   "metadata": {},
   "outputs": [
    {
     "data": {
      "text/plain": [
       "torch.Size([7])"
      ]
     },
     "execution_count": 116,
     "metadata": {},
     "output_type": "execute_result"
    }
   ],
   "source": [
    "t.shape"
   ]
  },
  {
   "cell_type": "code",
   "execution_count": 60,
   "metadata": {},
   "outputs": [],
   "source": [
    "xt, mt = model(x, t)"
   ]
  },
  {
   "cell_type": "code",
   "execution_count": 61,
   "metadata": {},
   "outputs": [
    {
     "data": {
      "text/plain": [
       "(torch.Size([4, 5]), torch.Size([4]))"
      ]
     },
     "execution_count": 61,
     "metadata": {},
     "output_type": "execute_result"
    }
   ],
   "source": [
    "xt.shape, mt.shape"
   ]
  },
  {
   "cell_type": "code",
   "execution_count": 62,
   "metadata": {},
   "outputs": [],
   "source": [
    "xtseq, mtseq = model(x, t, return_whole_sequence=True)"
   ]
  },
  {
   "cell_type": "code",
   "execution_count": 63,
   "metadata": {},
   "outputs": [
    {
     "data": {
      "text/plain": [
       "torch.Size([7, 4, 5])"
      ]
     },
     "execution_count": 63,
     "metadata": {},
     "output_type": "execute_result"
    }
   ],
   "source": [
    "xtseq.shape"
   ]
  },
  {
   "cell_type": "code",
   "execution_count": 64,
   "metadata": {},
   "outputs": [
    {
     "data": {
      "text/plain": [
       "torch.Size([7, 4])"
      ]
     },
     "execution_count": 64,
     "metadata": {},
     "output_type": "execute_result"
    }
   ],
   "source": [
    "mtseq.shape"
   ]
  },
  {
   "cell_type": "code",
   "execution_count": 65,
   "metadata": {},
   "outputs": [
    {
     "data": {
      "text/plain": [
       "tensor([0.9708, 1.0566, 1.2076, 0.7650], grad_fn=<MulBackward0>)"
      ]
     },
     "execution_count": 65,
     "metadata": {},
     "output_type": "execute_result"
    }
   ],
   "source": [
    "torch.nn.functional.softmax(mt, dim=-1) * mt.shape[-1]"
   ]
  },
  {
   "cell_type": "code",
   "execution_count": 66,
   "metadata": {},
   "outputs": [
    {
     "data": {
      "text/plain": [
       "tensor([0.2427, 0.2641, 0.3019, 0.1913], grad_fn=<DivBackward0>)"
      ]
     },
     "execution_count": 66,
     "metadata": {},
     "output_type": "execute_result"
    }
   ],
   "source": [
    "torch.exp(mt)/torch.exp(mt).sum(dim=0)"
   ]
  },
  {
   "cell_type": "code",
   "execution_count": 67,
   "metadata": {},
   "outputs": [
    {
     "data": {
      "text/plain": [
       "tensor([[1.0000, 1.0000, 1.0000, 1.0000],\n",
       "        [0.9978, 1.0128, 1.0327, 0.9568],\n",
       "        [0.9942, 1.0240, 1.0655, 0.9162],\n",
       "        [0.9894, 1.0341, 1.0991, 0.8774],\n",
       "        [0.9841, 1.0428, 1.1336, 0.8395],\n",
       "        [0.9780, 1.0503, 1.1697, 0.8020],\n",
       "        [0.9708, 1.0566, 1.2076, 0.7650]], grad_fn=<MulBackward0>)"
      ]
     },
     "execution_count": 67,
     "metadata": {},
     "output_type": "execute_result"
    }
   ],
   "source": [
    "torch.nn.functional.softmax(mtseq, dim=-1) * mtseq.shape[-1]"
   ]
  },
  {
   "cell_type": "code",
   "execution_count": 68,
   "metadata": {},
   "outputs": [
    {
     "data": {
      "text/plain": [
       "torch.Size([7, 4, 5])"
      ]
     },
     "execution_count": 68,
     "metadata": {},
     "output_type": "execute_result"
    }
   ],
   "source": [
    "xtseq.shape"
   ]
  },
  {
   "cell_type": "code",
   "execution_count": 69,
   "metadata": {},
   "outputs": [
    {
     "data": {
      "text/plain": [
       "torch.Size([7, 4, 1])"
      ]
     },
     "execution_count": 69,
     "metadata": {},
     "output_type": "execute_result"
    }
   ],
   "source": [
    "mtseq.unsqueeze(2).shape"
   ]
  },
  {
   "cell_type": "code",
   "execution_count": 70,
   "metadata": {},
   "outputs": [
    {
     "data": {
      "text/plain": [
       "torch.Size([7, 4, 6])"
      ]
     },
     "execution_count": 70,
     "metadata": {},
     "output_type": "execute_result"
    }
   ],
   "source": [
    "xmseq = torch.cat([xtseq, mtseq.unsqueeze(2)], dim=-1)\n",
    "xmseq.shape"
   ]
  },
  {
   "cell_type": "code",
   "execution_count": 71,
   "metadata": {},
   "outputs": [],
   "source": [
    "dxdts = torch.stack([model.func(t[i], xmseq[i]) for i in range(len(t))])"
   ]
  },
  {
   "cell_type": "code",
   "execution_count": 72,
   "metadata": {},
   "outputs": [
    {
     "data": {
      "text/plain": [
       "torch.Size([7, 4, 6])"
      ]
     },
     "execution_count": 72,
     "metadata": {},
     "output_type": "execute_result"
    }
   ],
   "source": [
    "dxdts.shape"
   ]
  },
  {
   "cell_type": "code",
   "execution_count": 73,
   "metadata": {},
   "outputs": [
    {
     "data": {
      "text/plain": [
       "torch.Size([4, 1])"
      ]
     },
     "execution_count": 73,
     "metadata": {},
     "output_type": "execute_result"
    }
   ],
   "source": [
    "mt.unsqueeze(1).shape"
   ]
  },
  {
   "cell_type": "code",
   "execution_count": 74,
   "metadata": {},
   "outputs": [
    {
     "data": {
      "text/plain": [
       "ToyODE(\n",
       "  (seq): Sequential(\n",
       "    (0): Linear(in_features=9, out_features=64, bias=True)\n",
       "    (1): ReLU()\n",
       "    (2): Linear(in_features=64, out_features=6, bias=True)\n",
       "  )\n",
       ")"
      ]
     },
     "execution_count": 74,
     "metadata": {},
     "output_type": "execute_result"
    }
   ],
   "source": [
    "model.func"
   ]
  },
  {
   "cell_type": "code",
   "execution_count": 75,
   "metadata": {},
   "outputs": [
    {
     "data": {
      "text/plain": [
       "torch.Size([4, 5])"
      ]
     },
     "execution_count": 75,
     "metadata": {},
     "output_type": "execute_result"
    }
   ],
   "source": [
    "xt.shape"
   ]
  },
  {
   "cell_type": "code",
   "execution_count": 76,
   "metadata": {},
   "outputs": [
    {
     "data": {
      "text/plain": [
       "torch.Size([4])"
      ]
     },
     "execution_count": 76,
     "metadata": {},
     "output_type": "execute_result"
    }
   ],
   "source": [
    "mt.shape"
   ]
  },
  {
   "cell_type": "code",
   "execution_count": 77,
   "metadata": {},
   "outputs": [],
   "source": [
    "xm = torch.cat([xt, mt.unsqueeze(-1)], dim=-1)\n",
    "dxdt = model.func(t[-1], xm)"
   ]
  },
  {
   "cell_type": "code",
   "execution_count": 78,
   "metadata": {},
   "outputs": [
    {
     "data": {
      "text/plain": [
       "torch.Size([4, 5])"
      ]
     },
     "execution_count": 78,
     "metadata": {},
     "output_type": "execute_result"
    }
   ],
   "source": [
    "dxdt[...,:-1].shape"
   ]
  },
  {
   "cell_type": "code",
   "execution_count": 79,
   "metadata": {},
   "outputs": [
    {
     "data": {
      "text/plain": [
       "torch.Size([7, 4])"
      ]
     },
     "execution_count": 79,
     "metadata": {},
     "output_type": "execute_result"
    }
   ],
   "source": [
    "mtseq.shape"
   ]
  },
  {
   "cell_type": "code",
   "execution_count": 80,
   "metadata": {},
   "outputs": [
    {
     "data": {
      "text/plain": [
       "torch.Size([7, 4, 5])"
      ]
     },
     "execution_count": 80,
     "metadata": {},
     "output_type": "execute_result"
    }
   ],
   "source": [
    "xtseq.shape"
   ]
  },
  {
   "cell_type": "code",
   "execution_count": 81,
   "metadata": {},
   "outputs": [
    {
     "data": {
      "text/plain": [
       "torch.Size([7])"
      ]
     },
     "execution_count": 81,
     "metadata": {},
     "output_type": "execute_result"
    }
   ],
   "source": [
    "t.shape"
   ]
  },
  {
   "cell_type": "code",
   "execution_count": 82,
   "metadata": {},
   "outputs": [
    {
     "data": {
      "text/plain": [
       "tensor([0.0000, 0.1667, 0.3333])"
      ]
     },
     "execution_count": 82,
     "metadata": {},
     "output_type": "execute_result"
    }
   ],
   "source": [
    "t[[0,1,2],...]"
   ]
  },
  {
   "cell_type": "code",
   "execution_count": 83,
   "metadata": {},
   "outputs": [
    {
     "data": {
      "text/plain": [
       "torch.Size([4])"
      ]
     },
     "execution_count": 83,
     "metadata": {},
     "output_type": "execute_result"
    }
   ],
   "source": [
    "mt.shape"
   ]
  },
  {
   "cell_type": "code",
   "execution_count": 84,
   "metadata": {},
   "outputs": [
    {
     "data": {
      "text/plain": [
       "torch.Size([4, 6])"
      ]
     },
     "execution_count": 84,
     "metadata": {},
     "output_type": "execute_result"
    }
   ],
   "source": [
    "(dxdt * mt.unsqueeze(-1)).shape"
   ]
  },
  {
   "cell_type": "code",
   "execution_count": 85,
   "metadata": {},
   "outputs": [
    {
     "data": {
      "text/plain": [
       "torch.Size([7, 4, 6])"
      ]
     },
     "execution_count": 85,
     "metadata": {},
     "output_type": "execute_result"
    }
   ],
   "source": [
    "dxdts.shape"
   ]
  },
  {
   "cell_type": "code",
   "execution_count": 86,
   "metadata": {},
   "outputs": [
    {
     "data": {
      "text/plain": [
       "torch.Size([7, 4])"
      ]
     },
     "execution_count": 86,
     "metadata": {},
     "output_type": "execute_result"
    }
   ],
   "source": [
    "mtseq.shape"
   ]
  },
  {
   "cell_type": "code",
   "execution_count": 87,
   "metadata": {},
   "outputs": [
    {
     "data": {
      "text/plain": [
       "torch.Size([7, 4, 6])"
      ]
     },
     "execution_count": 87,
     "metadata": {},
     "output_type": "execute_result"
    }
   ],
   "source": [
    "(dxdts * mtseq.unsqueeze(-1)).shape"
   ]
  },
  {
   "cell_type": "code",
   "execution_count": 88,
   "metadata": {},
   "outputs": [
    {
     "data": {
      "text/plain": [
       "torch.Size([7, 4])"
      ]
     },
     "execution_count": 88,
     "metadata": {},
     "output_type": "execute_result"
    }
   ],
   "source": [
    "torch.nn.functional.softmax(mtseq, dim=-1).shape"
   ]
  },
  {
   "cell_type": "code",
   "execution_count": 89,
   "metadata": {},
   "outputs": [
    {
     "data": {
      "text/plain": [
       "4"
      ]
     },
     "execution_count": 89,
     "metadata": {},
     "output_type": "execute_result"
    }
   ],
   "source": [
    "mtseq.shape[-1]"
   ]
  },
  {
   "cell_type": "code",
   "execution_count": 90,
   "metadata": {},
   "outputs": [
    {
     "data": {
      "text/plain": [
       "torch.Size([4])"
      ]
     },
     "execution_count": 90,
     "metadata": {},
     "output_type": "execute_result"
    }
   ],
   "source": [
    "torch.nn.functional.softmax(mt, dim=-1).shape"
   ]
  },
  {
   "cell_type": "code",
   "execution_count": 91,
   "metadata": {},
   "outputs": [
    {
     "data": {
      "text/plain": [
       "4"
      ]
     },
     "execution_count": 91,
     "metadata": {},
     "output_type": "execute_result"
    }
   ],
   "source": [
    "mt.shape[-1]"
   ]
  },
  {
   "cell_type": "code",
   "execution_count": 92,
   "metadata": {},
   "outputs": [
    {
     "data": {
      "text/plain": [
       "torch.Size([4, 6])"
      ]
     },
     "execution_count": 92,
     "metadata": {},
     "output_type": "execute_result"
    }
   ],
   "source": [
    "def func_end_0(t, x):\n",
    "    xm = model.func(t, x)\n",
    "# mt[[0,2,4,6,8]] = 0.\n",
    "model.func(t[-1], xm).shape"
   ]
  },
  {
   "cell_type": "code",
   "execution_count": 93,
   "metadata": {},
   "outputs": [
    {
     "data": {
      "text/plain": [
       "torch.Size([4])"
      ]
     },
     "execution_count": 93,
     "metadata": {},
     "output_type": "execute_result"
    }
   ],
   "source": [
    "xm[...,-1].shape"
   ]
  },
  {
   "cell_type": "code",
   "execution_count": 94,
   "metadata": {},
   "outputs": [
    {
     "data": {
      "text/plain": [
       "torch.Size([4, 6])"
      ]
     },
     "execution_count": 94,
     "metadata": {},
     "output_type": "execute_result"
    }
   ],
   "source": [
    "xm.shape"
   ]
  },
  {
   "cell_type": "code",
   "execution_count": 95,
   "metadata": {},
   "outputs": [
    {
     "data": {
      "text/plain": [
       "torch.Size([7, 4, 6])"
      ]
     },
     "execution_count": 95,
     "metadata": {},
     "output_type": "execute_result"
    }
   ],
   "source": [
    "xmseq.shape"
   ]
  },
  {
   "cell_type": "code",
   "execution_count": 96,
   "metadata": {},
   "outputs": [],
   "source": [
    "xm[[0,2],-1] = 0."
   ]
  },
  {
   "cell_type": "code",
   "execution_count": 97,
   "metadata": {},
   "outputs": [
    {
     "data": {
      "text/plain": [
       "tensor([[ 0.7460, -0.5456, -1.0027, -0.4393, -0.3585,  0.0000],\n",
       "        [-1.2139, -0.1798,  0.1550,  1.0991, -0.5845,  1.1864],\n",
       "        [ 0.6480, -1.6592, -3.3590, -0.8466, -0.2299,  0.0000],\n",
       "        [-0.1148,  0.4754, -0.4451, -1.1064,  1.1586,  0.8635]],\n",
       "       grad_fn=<CopySlices>)"
      ]
     },
     "execution_count": 97,
     "metadata": {},
     "output_type": "execute_result"
    }
   ],
   "source": [
    "xm"
   ]
  },
  {
   "cell_type": "code",
   "execution_count": 98,
   "metadata": {},
   "outputs": [],
   "source": [
    "dxmdt = model.func(t[-1], xm)"
   ]
  },
  {
   "cell_type": "code",
   "execution_count": 99,
   "metadata": {},
   "outputs": [
    {
     "data": {
      "text/plain": [
       "tensor([[ 0.1114, -0.4193, -0.2571, -0.2891, -0.1134,  0.1890],\n",
       "        [ 0.1237, -0.1615,  0.0009, -0.1757, -0.2481,  0.1611],\n",
       "        [ 0.0801, -0.6372, -0.8091, -0.5411, -0.1027,  0.3390],\n",
       "        [ 0.1650, -0.2092, -0.0134, -0.3447, -0.4835, -0.0278]],\n",
       "       grad_fn=<AddmmBackward0>)"
      ]
     },
     "execution_count": 99,
     "metadata": {},
     "output_type": "execute_result"
    }
   ],
   "source": [
    "dxmdt"
   ]
  },
  {
   "cell_type": "code",
   "execution_count": 100,
   "metadata": {},
   "outputs": [
    {
     "data": {
      "text/plain": [
       "torch.Size([4, 6])"
      ]
     },
     "execution_count": 100,
     "metadata": {},
     "output_type": "execute_result"
    }
   ],
   "source": [
    "xm.shape"
   ]
  },
  {
   "cell_type": "code",
   "execution_count": 101,
   "metadata": {},
   "outputs": [
    {
     "data": {
      "text/plain": [
       "torch.Size([4, 5])"
      ]
     },
     "execution_count": 101,
     "metadata": {},
     "output_type": "execute_result"
    }
   ],
   "source": [
    "xt.shape"
   ]
  },
  {
   "cell_type": "code",
   "execution_count": 102,
   "metadata": {},
   "outputs": [
    {
     "data": {
      "text/plain": [
       "torch.Size([7, 4, 5])"
      ]
     },
     "execution_count": 102,
     "metadata": {},
     "output_type": "execute_result"
    }
   ],
   "source": [
    "xtseq.shape"
   ]
  },
  {
   "cell_type": "code",
   "execution_count": 103,
   "metadata": {},
   "outputs": [
    {
     "data": {
      "text/plain": [
       "torch.Size([4, 6])"
      ]
     },
     "execution_count": 103,
     "metadata": {},
     "output_type": "execute_result"
    }
   ],
   "source": [
    "xm.shape"
   ]
  },
  {
   "cell_type": "code",
   "execution_count": 104,
   "metadata": {},
   "outputs": [
    {
     "data": {
      "text/plain": [
       "torch.Size([7, 4, 6])"
      ]
     },
     "execution_count": 104,
     "metadata": {},
     "output_type": "execute_result"
    }
   ],
   "source": [
    "xmseq.shape"
   ]
  },
  {
   "cell_type": "code",
   "execution_count": 105,
   "metadata": {},
   "outputs": [
    {
     "data": {
      "text/plain": [
       "torch.Size([7, 4, 6])"
      ]
     },
     "execution_count": 105,
     "metadata": {},
     "output_type": "execute_result"
    }
   ],
   "source": [
    "xmseq.shape"
   ]
  },
  {
   "cell_type": "code",
   "execution_count": 106,
   "metadata": {},
   "outputs": [
    {
     "data": {
      "text/plain": [
       "torch.Size([4, 6])"
      ]
     },
     "execution_count": 106,
     "metadata": {},
     "output_type": "execute_result"
    }
   ],
   "source": [
    "xm.shape"
   ]
  },
  {
   "cell_type": "code",
   "execution_count": 107,
   "metadata": {},
   "outputs": [
    {
     "data": {
      "text/plain": [
       "torch.Size([7, 4, 5])"
      ]
     },
     "execution_count": 107,
     "metadata": {},
     "output_type": "execute_result"
    }
   ],
   "source": [
    "xtseq.shape"
   ]
  },
  {
   "cell_type": "code",
   "execution_count": 108,
   "metadata": {},
   "outputs": [
    {
     "data": {
      "text/plain": [
       "torch.Size([7, 4])"
      ]
     },
     "execution_count": 108,
     "metadata": {},
     "output_type": "execute_result"
    }
   ],
   "source": [
    "xtseq.norm(dim=-1).shape"
   ]
  },
  {
   "cell_type": "code",
   "execution_count": 109,
   "metadata": {},
   "outputs": [
    {
     "data": {
      "text/plain": [
       "torch.Size([7, 4, 5])"
      ]
     },
     "execution_count": 109,
     "metadata": {},
     "output_type": "execute_result"
    }
   ],
   "source": [
    "(xtseq / xtseq.norm(dim=-1, keepdim=True)).shape"
   ]
  },
  {
   "cell_type": "code",
   "execution_count": 110,
   "metadata": {},
   "outputs": [
    {
     "data": {
      "text/plain": [
       "torch.Size([6, 4, 5])"
      ]
     },
     "execution_count": 110,
     "metadata": {},
     "output_type": "execute_result"
    }
   ],
   "source": [
    "torch.diff(xtseq / xtseq.norm(dim=-1, keepdim=True), dim=0).shape"
   ]
  },
  {
   "cell_type": "code",
   "execution_count": 111,
   "metadata": {},
   "outputs": [
    {
     "data": {
      "text/plain": [
       "tensor([[[-2.3809e-02, -3.1514e-02, -8.2331e-03, -1.3875e-02,  2.8666e-03],\n",
       "         [-1.9941e-03, -1.3576e-02, -5.4659e-03, -7.7661e-03, -2.4443e-02],\n",
       "         [-9.2892e-03, -5.2105e-03,  2.5960e-03, -1.4812e-02, -9.9999e-04],\n",
       "         [ 1.0675e-02, -3.6855e-03, -3.9056e-04, -3.3850e-02, -1.4750e-02]],\n",
       "\n",
       "        [[-2.2008e-02, -2.9510e-02, -3.9362e-03, -1.5483e-02,  1.7417e-03],\n",
       "         [-6.5929e-04, -1.5102e-02, -4.3810e-03, -8.3821e-03, -2.6042e-02],\n",
       "         [-8.4651e-03, -5.5358e-03,  3.2527e-03, -1.4406e-02, -1.3003e-03],\n",
       "         [ 1.2104e-02, -5.5695e-03, -2.6271e-04, -3.6062e-02, -1.6988e-02]],\n",
       "\n",
       "        [[-2.0293e-02, -2.8098e-02, -2.8104e-04, -1.6850e-02,  1.5502e-03],\n",
       "         [ 6.8498e-04, -1.6469e-02, -3.1326e-03, -9.1614e-03, -2.7284e-02],\n",
       "         [-7.6881e-03, -5.8275e-03,  3.8420e-03, -1.3961e-02, -1.5218e-03],\n",
       "         [ 1.3884e-02, -7.6974e-03, -4.4167e-05, -3.8176e-02, -1.9553e-02]],\n",
       "\n",
       "        [[-1.9098e-02, -2.7257e-02,  2.6186e-03, -1.7429e-02,  1.5830e-03],\n",
       "         [ 2.8740e-03, -1.8084e-02, -1.6229e-03, -9.4246e-03, -2.8686e-02],\n",
       "         [-6.8812e-03, -6.1308e-03,  4.3969e-03, -1.3446e-02, -1.6907e-03],\n",
       "         [ 1.5952e-02, -1.0026e-02,  2.6369e-04, -3.9912e-02, -2.2384e-02]],\n",
       "\n",
       "        [[-1.7921e-02, -2.6809e-02,  5.2875e-03, -1.7104e-02,  1.3916e-03],\n",
       "         [ 5.5577e-03, -1.9826e-02,  3.4794e-06, -9.5764e-03, -3.0180e-02],\n",
       "         [-6.1800e-03, -6.4135e-03,  4.8862e-03, -1.2893e-02, -1.8824e-03],\n",
       "         [ 1.7829e-02, -1.2756e-02,  1.2749e-03, -4.1254e-02, -2.5286e-02]],\n",
       "\n",
       "        [[-1.6868e-02, -2.6248e-02,  7.5899e-03, -1.6566e-02,  1.2281e-03],\n",
       "         [ 8.0779e-03, -2.1734e-02,  1.2304e-03, -1.0297e-02, -3.1596e-02],\n",
       "         [-5.5658e-03, -6.6453e-03,  5.3107e-03, -1.2358e-02, -2.0248e-03],\n",
       "         [ 1.9352e-02, -1.6109e-02,  2.8926e-03, -4.2246e-02, -2.8289e-02]]],\n",
       "       grad_fn=<SubBackward0>)"
      ]
     },
     "execution_count": 111,
     "metadata": {},
     "output_type": "execute_result"
    }
   ],
   "source": [
    "torch.diff(xtseq / xtseq.norm(dim=-1, keepdim=True), dim=0)"
   ]
  },
  {
   "cell_type": "code",
   "execution_count": 112,
   "metadata": {},
   "outputs": [
    {
     "data": {
      "text/plain": [
       "tensor(0.0003, grad_fn=<MeanBackward0>)"
      ]
     },
     "execution_count": 112,
     "metadata": {},
     "output_type": "execute_result"
    }
   ],
   "source": [
    "torch.square(torch.diff(xtseq / xtseq.norm(dim=-1, keepdim=True), dim=0)).mean()"
   ]
  },
  {
   "cell_type": "code",
   "execution_count": 113,
   "metadata": {},
   "outputs": [
    {
     "data": {
      "text/plain": [
       "tensor([[[-2.3809e-02, -3.1514e-02, -8.2331e-03, -1.3875e-02,  2.8666e-03],\n",
       "         [-1.9941e-03, -1.3576e-02, -5.4659e-03, -7.7661e-03, -2.4443e-02],\n",
       "         [-9.2892e-03, -5.2105e-03,  2.5960e-03, -1.4812e-02, -9.9999e-04],\n",
       "         [ 1.0675e-02, -3.6855e-03, -3.9056e-04, -3.3850e-02, -1.4750e-02]],\n",
       "\n",
       "        [[-2.2008e-02, -2.9510e-02, -3.9362e-03, -1.5483e-02,  1.7417e-03],\n",
       "         [-6.5929e-04, -1.5102e-02, -4.3810e-03, -8.3821e-03, -2.6042e-02],\n",
       "         [-8.4651e-03, -5.5358e-03,  3.2527e-03, -1.4406e-02, -1.3003e-03],\n",
       "         [ 1.2104e-02, -5.5695e-03, -2.6271e-04, -3.6062e-02, -1.6988e-02]],\n",
       "\n",
       "        [[-2.0293e-02, -2.8098e-02, -2.8104e-04, -1.6850e-02,  1.5502e-03],\n",
       "         [ 6.8498e-04, -1.6469e-02, -3.1326e-03, -9.1614e-03, -2.7284e-02],\n",
       "         [-7.6881e-03, -5.8275e-03,  3.8420e-03, -1.3961e-02, -1.5218e-03],\n",
       "         [ 1.3884e-02, -7.6974e-03, -4.4167e-05, -3.8176e-02, -1.9553e-02]],\n",
       "\n",
       "        [[-1.9098e-02, -2.7257e-02,  2.6186e-03, -1.7429e-02,  1.5830e-03],\n",
       "         [ 2.8740e-03, -1.8084e-02, -1.6229e-03, -9.4246e-03, -2.8686e-02],\n",
       "         [-6.8812e-03, -6.1308e-03,  4.3969e-03, -1.3446e-02, -1.6907e-03],\n",
       "         [ 1.5952e-02, -1.0026e-02,  2.6369e-04, -3.9912e-02, -2.2384e-02]],\n",
       "\n",
       "        [[-1.7921e-02, -2.6809e-02,  5.2875e-03, -1.7104e-02,  1.3916e-03],\n",
       "         [ 5.5577e-03, -1.9826e-02,  3.4794e-06, -9.5764e-03, -3.0180e-02],\n",
       "         [-6.1800e-03, -6.4135e-03,  4.8862e-03, -1.2893e-02, -1.8824e-03],\n",
       "         [ 1.7829e-02, -1.2756e-02,  1.2749e-03, -4.1254e-02, -2.5286e-02]],\n",
       "\n",
       "        [[-1.6868e-02, -2.6248e-02,  7.5899e-03, -1.6566e-02,  1.2281e-03],\n",
       "         [ 8.0779e-03, -2.1734e-02,  1.2304e-03, -1.0297e-02, -3.1596e-02],\n",
       "         [-5.5658e-03, -6.6453e-03,  5.3107e-03, -1.2358e-02, -2.0248e-03],\n",
       "         [ 1.9352e-02, -1.6109e-02,  2.8926e-03, -4.2246e-02, -2.8289e-02]]],\n",
       "       grad_fn=<SubBackward0>)"
      ]
     },
     "execution_count": 113,
     "metadata": {},
     "output_type": "execute_result"
    }
   ],
   "source": [
    "torch.diff(xtseq / xtseq.norm(dim=-1, keepdim=True), dim=0)"
   ]
  },
  {
   "cell_type": "code",
   "execution_count": 114,
   "metadata": {},
   "outputs": [
    {
     "data": {
      "text/plain": [
       "tensor([[ 0.4249,  0.3007,  0.9810,  0.6314],\n",
       "        [-0.5696, -0.6919,  0.0062, -0.3660],\n",
       "        [-1.5598, -1.6783, -0.9677, -1.3664],\n",
       "        [-2.5416, -2.6617, -1.9404, -2.3664],\n",
       "        [-3.5198, -3.6440, -2.9133, -3.3636],\n",
       "        [-4.4969, -4.6234, -3.8846, -4.3573],\n",
       "        [-5.4707, -5.6003, -4.8533, -5.3485]], grad_fn=<SubBackward0>)"
      ]
     },
     "execution_count": 114,
     "metadata": {},
     "output_type": "execute_result"
    }
   ],
   "source": [
    "dxdts.norm(dim=-1) - torch.arange(7).unsqueeze(-1)"
   ]
  },
  {
   "cell_type": "code",
   "execution_count": 117,
   "metadata": {},
   "outputs": [
    {
     "data": {
      "text/plain": [
       "torch.Size([7, 4, 6])"
      ]
     },
     "execution_count": 117,
     "metadata": {},
     "output_type": "execute_result"
    }
   ],
   "source": [
    "dxdts.shape"
   ]
  },
  {
   "cell_type": "code",
   "execution_count": 124,
   "metadata": {},
   "outputs": [
    {
     "name": "stdout",
     "output_type": "stream",
     "text": [
      "9.67 µs ± 579 ns per loop (mean ± std. dev. of 7 runs, 100,000 loops each)\n"
     ]
    }
   ],
   "source": [
    "%timeit dxdts.norm(dim=-1)"
   ]
  },
  {
   "cell_type": "code",
   "execution_count": 125,
   "metadata": {},
   "outputs": [
    {
     "name": "stdout",
     "output_type": "stream",
     "text": [
      "15.4 µs ± 1.09 µs per loop (mean ± std. dev. of 7 runs, 100,000 loops each)\n"
     ]
    }
   ],
   "source": [
    "%timeit torch.sqrt(torch.square(dxdts).sum(dim=-1))"
   ]
  },
  {
   "cell_type": "code",
   "execution_count": null,
   "metadata": {},
   "outputs": [],
   "source": []
  }
 ],
 "metadata": {
  "kernelspec": {
   "display_name": "Python 3",
   "language": "python",
   "name": "python3"
  },
  "language_info": {
   "codemirror_mode": {
    "name": "ipython",
    "version": 3
   },
   "file_extension": ".py",
   "mimetype": "text/x-python",
   "name": "python",
   "nbconvert_exporter": "python",
   "pygments_lexer": "ipython3",
   "version": "3.11.5"
  }
 },
 "nbformat": 4,
 "nbformat_minor": 2
}
