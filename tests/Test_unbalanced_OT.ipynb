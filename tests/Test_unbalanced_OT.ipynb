{
 "cells": [
  {
   "cell_type": "code",
   "execution_count": 258,
   "metadata": {},
   "outputs": [],
   "source": [
    "import numpy as np\n",
    "import torch\n",
    "import matplotlib.pylab as pl\n",
    "import ot\n",
    "import numpy as np\n",
    "import matplotlib.pylab as pl\n",
    "import ot\n",
    "import ot.plot\n",
    "from ot.datasets import make_1D_gauss as gauss\n",
    "from MIOFlow.losses import density_specified_OT_loss"
   ]
  },
  {
   "cell_type": "code",
   "execution_count": 259,
   "metadata": {},
   "outputs": [],
   "source": [
    "n1 = 20  # nb samples\n",
    "n2 = 20  # nb samples\n",
    "n12 = 20  # nb samples\n",
    "\n",
    "mu_s = np.array([-1, -1])\n",
    "cov_s = np.array([[1, 0], [0, 1]])\n",
    "\n",
    "mu_t = np.array([-1, -1])\n",
    "cov_t = np.array([[1, 0], [0, 1]])\n",
    "\n",
    "mu_t2 = np.array([-4, 4])\n",
    "cov_t2 = np.array([[1, 0], [0, 1]])\n",
    "\n",
    "mu_s2 = np.array([4, 4])\n",
    "cov_s2 = np.array([[1, 0], [0, 1]])\n",
    "\n",
    "np.random.seed(0)\n",
    "xs = ot.datasets.make_2D_samples_gauss(n1, mu_s, cov_s)\n",
    "xt = ot.datasets.make_2D_samples_gauss(n2, mu_t, cov_t)\n",
    "xt2 = ot.datasets.make_2D_samples_gauss(n12, mu_t2, cov_t2)\n",
    "xs2 = ot.datasets.make_2D_samples_gauss(n12, mu_s2, cov_s2)\n",
    "\n",
    "# xs = np.concatenate((xs, xs2), axis=0)\n",
    "xt = np.concatenate((xt, xt2), axis=0)\n",
    "\n",
    "n_noise = 0\n",
    "\n",
    "xs = np.concatenate((xs, ((np.random.rand(n_noise, 2) - 4))), axis=0)\n",
    "xt = np.concatenate((xt, ((np.random.rand(n_noise, 2) + 6))), axis=0)\n",
    "\n",
    "xs = torch.tensor(xs, dtype=torch.float32, requires_grad=True)\n",
    "xt = torch.tensor(xt, dtype=torch.float32, requires_grad=False)\n",
    "\n",
    "# n1 = n1 + n12 + n_noise\n",
    "n1 = n1 + n_noise\n",
    "n2 = n2 + n12 + n_noise\n",
    "\n",
    "a, b = np.ones((n1,)), np.ones((n2,))  # uniform distribution on samples\n",
    "\n",
    "a = torch.tensor(a, dtype=torch.float32, requires_grad=True)\n",
    "b = torch.tensor(b, dtype=torch.float32, requires_grad=True)\n",
    "\n",
    "# loss matrix\n",
    "# M = ot.dist(xs, xt)\n",
    "M = torch.cdist(xs, xt)\n",
    "# M /= M.max()\n",
    "\n"
   ]
  },
  {
   "cell_type": "code",
   "execution_count": 260,
   "metadata": {},
   "outputs": [],
   "source": [
    "M2 = ot.dist(xs, xt)"
   ]
  },
  {
   "cell_type": "code",
   "execution_count": 261,
   "metadata": {},
   "outputs": [
    {
     "data": {
      "text/plain": [
       "tensor(False)"
      ]
     },
     "execution_count": 261,
     "metadata": {},
     "output_type": "execute_result"
    }
   ],
   "source": [
    "torch.isclose(M,M2).all()"
   ]
  },
  {
   "cell_type": "code",
   "execution_count": 262,
   "metadata": {},
   "outputs": [],
   "source": [
    "reg = 0.005\n",
    "reg_m_kl = 0.05\n",
    "reg_m_l2 = [5, 5]\n",
    "mass = 0.7\n",
    "\n",
    "# loss = ot.unbalanced.mm_unbalanced2(a, b, M, reg_m_kl, div='kl')\n",
    "# loss = ot.emd2(a, b, M)\n",
    "# loss = ot.sinkhorn2(a, b, M, 0.5, verbose=False)\n",
    "# loss_func = density_specified_OT_loss(reg=0.5, take_softmax=True)\n",
    "# loss = loss_func(xs, xt, a)\n",
    "# Gs = ot.sinkhorn(a, b, M, 0.5, verbose=False)\n",
    "# loss = ot.unbalanced.sinkhorn_unbalanced2(a, b, M, reg, reg_m_kl)\n",
    "# Gs = ot.unbalanced.sinkhorn_knopp_unbalanced(a, b, M.detach(), reg, reg_m_kl)\n",
    "# Gs = ot.partial.partial_wasserstein(a, b, M, m=mass)\n",
    "# Gs = ot.unbalanced.mm_unbalanced(a, b, M, reg_m_kl, div='kl')\n",
    "Gs = ot.unbalanced.mm_unbalanced(a, b, M, reg_m_l2, div='l2')\n",
    "loss = (Gs * M).sum()\n",
    "loss.backward()\n",
    "# emd_ot = ot.emd(a, b, M)\n",
    "# entropic_kl_uot = ot.unbalanced.sinkhorn_unbalanced(a, b, M, reg, reg_m_kl)\n",
    "# kl_uot = ot.unbalanced.mm_unbalanced(a, b, M, reg_m_kl, div='kl')\n",
    "# l2_uot = ot.unbalanced.mm_unbalanced(a, b, M, reg_m_l2, div='l2')"
   ]
  },
  {
   "cell_type": "code",
   "execution_count": 263,
   "metadata": {},
   "outputs": [
    {
     "name": "stdout",
     "output_type": "stream",
     "text": [
      "True True\n",
      "True\n"
     ]
    }
   ],
   "source": [
    "print(a.requires_grad, b.requires_grad)\n",
    "print(loss.requires_grad)\n"
   ]
  },
  {
   "cell_type": "code",
   "execution_count": 264,
   "metadata": {},
   "outputs": [
    {
     "name": "stdout",
     "output_type": "stream",
     "text": [
      "tensor([ 2.1603,  3.7260,  1.8008,  1.0261,  0.4726,  1.0882,  1.1129,  0.8601,\n",
      "         1.5441,  0.3622,  0.1323,  0.7595,  2.1811,  0.1532,  4.6218,  0.5953,\n",
      "        -0.5639,  0.1735,  2.0216, -0.2865]) tensor([ 1.3438,  1.0300,  0.6588,  0.7023,  1.3440,  0.5206,  0.7231, -0.2057,\n",
      "        -0.2777,  0.7411,  0.7771,  1.0293, -0.0133,  1.0095,  0.5972, -0.8899,\n",
      "        -0.8294, -0.0981,  1.0458,  0.1455,  0.1000,  2.4669,  1.7531,  0.2864,\n",
      "         0.1000,  0.1000,  1.6959,  1.4865,  0.1000,  1.4793, -0.9837,  0.1000,\n",
      "         0.1000,  3.7685,  1.1854,  0.7035,  0.1000,  0.1001,  0.4837,  1.4611])\n"
     ]
    }
   ],
   "source": [
    "loss = (a.sum() + b.sum()) * 0.1\n",
    "loss.backward()\n",
    "print(a.grad, b.grad)"
   ]
  },
  {
   "cell_type": "code",
   "execution_count": 265,
   "metadata": {},
   "outputs": [],
   "source": [
    "# loss_emd = (emd_ot * M).sum()\n",
    "# loss_ent_kl = (entropic_kl_uot * M).sum()\n",
    "# loss_kl_uot = (kl_uot * M).sum()\n",
    "# loss_l2_uot = (l2_uot * M).sum()"
   ]
  },
  {
   "cell_type": "code",
   "execution_count": 266,
   "metadata": {},
   "outputs": [],
   "source": [
    "# loss_emd.backward()\n",
    "# loss_ent_kl.backward()\n",
    "# loss_kl_uot.backward()"
   ]
  },
  {
   "cell_type": "code",
   "execution_count": 267,
   "metadata": {},
   "outputs": [
    {
     "data": {
      "text/plain": [
       "tensor(6., grad_fn=<MulBackward0>)"
      ]
     },
     "execution_count": 267,
     "metadata": {},
     "output_type": "execute_result"
    }
   ],
   "source": [
    "loss"
   ]
  },
  {
   "cell_type": "code",
   "execution_count": 268,
   "metadata": {},
   "outputs": [
    {
     "data": {
      "text/plain": [
       "tensor([ 2.1603,  3.7260,  1.8008,  1.0261,  0.4726,  1.0882,  1.1129,  0.8601,\n",
       "         1.5441,  0.3622,  0.1323,  0.7595,  2.1811,  0.1532,  4.6218,  0.5953,\n",
       "        -0.5639,  0.1735,  2.0216, -0.2865])"
      ]
     },
     "execution_count": 268,
     "metadata": {},
     "output_type": "execute_result"
    }
   ],
   "source": [
    "a.grad"
   ]
  },
  {
   "cell_type": "code",
   "execution_count": 269,
   "metadata": {},
   "outputs": [
    {
     "data": {
      "text/plain": [
       "tensor([ 1.3438,  1.0300,  0.6588,  0.7023,  1.3440,  0.5206,  0.7231, -0.2057,\n",
       "        -0.2777,  0.7411,  0.7771,  1.0293, -0.0133,  1.0095,  0.5972, -0.8899,\n",
       "        -0.8294, -0.0981,  1.0458,  0.1455,  0.1000,  2.4669,  1.7531,  0.2864,\n",
       "         0.1000,  0.1000,  1.6959,  1.4865,  0.1000,  1.4793, -0.9837,  0.1000,\n",
       "         0.1000,  3.7685,  1.1854,  0.7035,  0.1000,  0.1001,  0.4837,  1.4611])"
      ]
     },
     "execution_count": 269,
     "metadata": {},
     "output_type": "execute_result"
    }
   ],
   "source": [
    "b.grad"
   ]
  },
  {
   "cell_type": "code",
   "execution_count": 270,
   "metadata": {},
   "outputs": [
    {
     "data": {
      "text/plain": [
       "tensor([[ 0.2753,  0.1262],\n",
       "        [ 0.2929, -0.0272],\n",
       "        [ 0.3504,  0.1572],\n",
       "        [ 0.6720,  0.2023],\n",
       "        [ 0.3026,  0.1032],\n",
       "        [ 0.6882, -0.4077],\n",
       "        [ 0.6741, -0.0513],\n",
       "        [ 0.8050,  0.1661],\n",
       "        [ 0.4739,  0.1270],\n",
       "        [ 0.8916,  0.4355],\n",
       "        [-1.5109,  1.4796],\n",
       "        [ 0.7905, -0.0982],\n",
       "        [ 0.2182, -0.1348],\n",
       "        [ 0.9656,  0.4083],\n",
       "        [-0.0733,  0.1568],\n",
       "        [ 0.8262,  0.0484],\n",
       "        [ 0.0511, -1.2762],\n",
       "        [-0.0769,  0.7956],\n",
       "        [ 0.4162,  0.6014],\n",
       "        [ 1.1858,  0.3113]])"
      ]
     },
     "execution_count": 270,
     "metadata": {},
     "output_type": "execute_result"
    }
   ],
   "source": [
    "xs.grad"
   ]
  },
  {
   "cell_type": "code",
   "execution_count": 271,
   "metadata": {},
   "outputs": [],
   "source": [
    "grads0 = a.grad.detach().numpy()"
   ]
  },
  {
   "cell_type": "code",
   "execution_count": 272,
   "metadata": {},
   "outputs": [
    {
     "data": {
      "text/plain": [
       "array([ 2.1603203 ,  3.7260084 ,  1.800792  ,  1.0260926 ,  0.47257093,\n",
       "        1.0881646 ,  1.1129147 ,  0.8600501 ,  1.5441328 ,  0.36219338,\n",
       "        0.1323212 ,  0.7595343 ,  2.1810572 ,  0.15317518,  4.6217537 ,\n",
       "        0.59525186, -0.56393933,  0.17350449,  2.0215523 , -0.28648347],\n",
       "      dtype=float32)"
      ]
     },
     "execution_count": 272,
     "metadata": {},
     "output_type": "execute_result"
    }
   ],
   "source": [
    "grads0"
   ]
  },
  {
   "cell_type": "code",
   "execution_count": 273,
   "metadata": {},
   "outputs": [
    {
     "data": {
      "text/plain": [
       "tensor([[ 0.2753,  0.1262],\n",
       "        [ 0.2929, -0.0272],\n",
       "        [ 0.3504,  0.1572],\n",
       "        [ 0.6720,  0.2023],\n",
       "        [ 0.3026,  0.1032],\n",
       "        [ 0.6882, -0.4077],\n",
       "        [ 0.6741, -0.0513],\n",
       "        [ 0.8050,  0.1661],\n",
       "        [ 0.4739,  0.1270],\n",
       "        [ 0.8916,  0.4355],\n",
       "        [-1.5109,  1.4796],\n",
       "        [ 0.7905, -0.0982],\n",
       "        [ 0.2182, -0.1348],\n",
       "        [ 0.9656,  0.4083],\n",
       "        [-0.0733,  0.1568],\n",
       "        [ 0.8262,  0.0484],\n",
       "        [ 0.0511, -1.2762],\n",
       "        [-0.0769,  0.7956],\n",
       "        [ 0.4162,  0.6014],\n",
       "        [ 1.1858,  0.3113]])"
      ]
     },
     "execution_count": 273,
     "metadata": {},
     "output_type": "execute_result"
    }
   ],
   "source": [
    "xs.grad"
   ]
  },
  {
   "cell_type": "code",
   "execution_count": 274,
   "metadata": {},
   "outputs": [
    {
     "data": {
      "image/png": "[encoded data removed]",
      "text/plain": [
       "<Figure size 640x480 with 2 Axes>"
      ]
     },
     "metadata": {},
     "output_type": "display_data"
    },
    {
     "data": {
      "text/plain": [
       "([], [])"
      ]
     },
     "execution_count": 274,
     "metadata": {},
     "output_type": "execute_result"
    },
    {
     "data": {
      "image/png": "[encoded data removed]",
      "text/plain": [
       "<Figure size 640x480 with 1 Axes>"
      ]
     },
     "metadata": {},
     "output_type": "display_data"
    }
   ],
   "source": [
    "grads = grads0\n",
    "xs = xs.detach()\n",
    "xt = xt.detach()\n",
    "P = Gs.detach().numpy()\n",
    "if P.sum() > 0:\n",
    "    P = P / P.max()\n",
    "for i in range(n1):\n",
    "    for j in range(n2):\n",
    "        if P[i, j] > 0:\n",
    "            pl.plot([xs[i, 0], xt[j, 0]], [xs[i, 1], xt[j, 1]], color='C2',\n",
    "                    alpha=P[i, j])\n",
    "# pl.scatter(xs[:, 0], xs[:, 1], c='C0', alpha=1, label='source')\n",
    "scatter = pl.scatter(xs[:, 0], xs[:, 1], c=grads, alpha=1, s=100, label='grads')\n",
    "pl.scatter(xt[:, 0], xt[:, 1], c='C1', alpha=1, label='target')\n",
    "pl.legend()\n",
    "pl.colorbar(scatter)\n",
    "pl.show()\n",
    "# pl.scatter(xs[:, 0], xs[:, 1], c='C0', s=P.sum(1).ravel() * (1 + p) * 2)\n",
    "# pl.scatter(xt[:, 0], xt[:, 1], c='C1', s=P.sum(0).ravel() * (1 + p) * 2)\n",
    "pl.yticks(())\n",
    "pl.xticks(())\n",
    "pl.imshow(P, cmap='jet')\n",
    "pl.yticks(())\n",
    "pl.xticks(())"
   ]
  },
  {
   "cell_type": "code",
   "execution_count": 275,
   "metadata": {},
   "outputs": [
    {
     "name": "stdout",
     "output_type": "stream",
     "text": [
      "[20 24 25 28 31 32 36 37]\n",
      "[]\n"
     ]
    }
   ],
   "source": [
    "P.shape\n",
    "# show all zero cols and rows of P respectively\n",
    "zero_cols = np.isclose(P.sum(0), 0)\n",
    "zero_rows = np.isclose(P.sum(1), 0)\n",
    "\n",
    "# find the indices of zero cols and rows\n",
    "zero_cols_indices = np.where(zero_cols)[0]\n",
    "zero_rows_indices = np.where(zero_rows)[0]\n",
    "print(zero_cols_indices)\n",
    "print(zero_rows_indices)\n"
   ]
  },
  {
   "cell_type": "code",
   "execution_count": 276,
   "metadata": {},
   "outputs": [
    {
     "data": {
      "text/plain": [
       "array([ 2.1603203 ,  3.7260084 ,  1.800792  ,  1.0260926 ,  0.47257093,\n",
       "        1.0881646 ,  1.1129147 ,  0.8600501 ,  1.5441328 ,  0.36219338,\n",
       "        0.1323212 ,  0.7595343 ,  2.1810572 ,  0.15317518,  4.6217537 ,\n",
       "        0.59525186, -0.56393933,  0.17350449,  2.0215523 , -0.28648347],\n",
       "      dtype=float32)"
      ]
     },
     "execution_count": 276,
     "metadata": {},
     "output_type": "execute_result"
    }
   ],
   "source": [
    "grads"
   ]
  },
  {
   "cell_type": "code",
   "execution_count": 277,
   "metadata": {},
   "outputs": [
    {
     "ename": "RuntimeError",
     "evalue": "Can't call numpy() on Tensor that requires grad. Use tensor.detach().numpy() instead.",
     "output_type": "error",
     "traceback": [
      "\u001b[0;31m---------------------------------------------------------------------------\u001b[0m",
      "\u001b[0;31mRuntimeError\u001b[0m                              Traceback (most recent call last)",
      "Cell \u001b[0;32mIn[277], line 2\u001b[0m\n\u001b[1;32m      1\u001b[0m pl\u001b[38;5;241m.\u001b[39mfigure(\u001b[38;5;241m3\u001b[39m, figsize\u001b[38;5;241m=\u001b[39m(\u001b[38;5;241m5\u001b[39m, \u001b[38;5;241m5\u001b[39m))\n\u001b[0;32m----> 2\u001b[0m ot\u001b[38;5;241m.\u001b[39mplot\u001b[38;5;241m.\u001b[39mplot1D_mat(a, b, Gs, \u001b[38;5;124m'\u001b[39m\u001b[38;5;124mUOT matrix Sinkhorn\u001b[39m\u001b[38;5;124m'\u001b[39m)\n\u001b[1;32m      4\u001b[0m pl\u001b[38;5;241m.\u001b[39mshow()\n",
      "File \u001b[0;32m~/micromamba/envs/dmae/lib/python3.11/site-packages/ot/plot.py:44\u001b[0m, in \u001b[0;36mplot1D_mat\u001b[0;34m(a, b, M, title)\u001b[0m\n\u001b[1;32m     41\u001b[0m xb \u001b[38;5;241m=\u001b[39m np\u001b[38;5;241m.\u001b[39marange(nb)\n\u001b[1;32m     43\u001b[0m ax1 \u001b[38;5;241m=\u001b[39m pl\u001b[38;5;241m.\u001b[39msubplot(gs[\u001b[38;5;241m0\u001b[39m, \u001b[38;5;241m1\u001b[39m:])\n\u001b[0;32m---> 44\u001b[0m pl\u001b[38;5;241m.\u001b[39mplot(xb, b, \u001b[38;5;124m'\u001b[39m\u001b[38;5;124mr\u001b[39m\u001b[38;5;124m'\u001b[39m, label\u001b[38;5;241m=\u001b[39m\u001b[38;5;124m'\u001b[39m\u001b[38;5;124mTarget distribution\u001b[39m\u001b[38;5;124m'\u001b[39m)\n\u001b[1;32m     45\u001b[0m pl\u001b[38;5;241m.\u001b[39myticks(())\n\u001b[1;32m     46\u001b[0m pl\u001b[38;5;241m.\u001b[39mtitle(title)\n",
      "File \u001b[0;32m~/micromamba/envs/dmae/lib/python3.11/site-packages/matplotlib/pyplot.py:3575\u001b[0m, in \u001b[0;36mplot\u001b[0;34m(scalex, scaley, data, *args, **kwargs)\u001b[0m\n\u001b[1;32m   3567\u001b[0m \u001b[38;5;129m@_copy_docstring_and_deprecators\u001b[39m(Axes\u001b[38;5;241m.\u001b[39mplot)\n\u001b[1;32m   3568\u001b[0m \u001b[38;5;28;01mdef\u001b[39;00m \u001b[38;5;21mplot\u001b[39m(\n\u001b[1;32m   3569\u001b[0m     \u001b[38;5;241m*\u001b[39margs: \u001b[38;5;28mfloat\u001b[39m \u001b[38;5;241m|\u001b[39m ArrayLike \u001b[38;5;241m|\u001b[39m \u001b[38;5;28mstr\u001b[39m,\n\u001b[0;32m   (...)\u001b[0m\n\u001b[1;32m   3573\u001b[0m     \u001b[38;5;241m*\u001b[39m\u001b[38;5;241m*\u001b[39mkwargs,\n\u001b[1;32m   3574\u001b[0m ) \u001b[38;5;241m-\u001b[39m\u001b[38;5;241m>\u001b[39m \u001b[38;5;28mlist\u001b[39m[Line2D]:\n\u001b[0;32m-> 3575\u001b[0m     \u001b[38;5;28;01mreturn\u001b[39;00m gca()\u001b[38;5;241m.\u001b[39mplot(\n\u001b[1;32m   3576\u001b[0m         \u001b[38;5;241m*\u001b[39margs,\n\u001b[1;32m   3577\u001b[0m         scalex\u001b[38;5;241m=\u001b[39mscalex,\n\u001b[1;32m   3578\u001b[0m         scaley\u001b[38;5;241m=\u001b[39mscaley,\n\u001b[1;32m   3579\u001b[0m         \u001b[38;5;241m*\u001b[39m\u001b[38;5;241m*\u001b[39m({\u001b[38;5;124m\"\u001b[39m\u001b[38;5;124mdata\u001b[39m\u001b[38;5;124m\"\u001b[39m: data} \u001b[38;5;28;01mif\u001b[39;00m data \u001b[38;5;129;01mis\u001b[39;00m \u001b[38;5;129;01mnot\u001b[39;00m \u001b[38;5;28;01mNone\u001b[39;00m \u001b[38;5;28;01melse\u001b[39;00m {}),\n\u001b[1;32m   3580\u001b[0m         \u001b[38;5;241m*\u001b[39m\u001b[38;5;241m*\u001b[39mkwargs,\n\u001b[1;32m   3581\u001b[0m     )\n",
      "File \u001b[0;32m~/micromamba/envs/dmae/lib/python3.11/site-packages/matplotlib/axes/_axes.py:1723\u001b[0m, in \u001b[0;36mAxes.plot\u001b[0;34m(self, scalex, scaley, data, *args, **kwargs)\u001b[0m\n\u001b[1;32m   1721\u001b[0m lines \u001b[38;5;241m=\u001b[39m [\u001b[38;5;241m*\u001b[39m\u001b[38;5;28mself\u001b[39m\u001b[38;5;241m.\u001b[39m_get_lines(\u001b[38;5;28mself\u001b[39m, \u001b[38;5;241m*\u001b[39margs, data\u001b[38;5;241m=\u001b[39mdata, \u001b[38;5;241m*\u001b[39m\u001b[38;5;241m*\u001b[39mkwargs)]\n\u001b[1;32m   1722\u001b[0m \u001b[38;5;28;01mfor\u001b[39;00m line \u001b[38;5;129;01min\u001b[39;00m lines:\n\u001b[0;32m-> 1723\u001b[0m     \u001b[38;5;28mself\u001b[39m\u001b[38;5;241m.\u001b[39madd_line(line)\n\u001b[1;32m   1724\u001b[0m \u001b[38;5;28;01mif\u001b[39;00m scalex:\n\u001b[1;32m   1725\u001b[0m     \u001b[38;5;28mself\u001b[39m\u001b[38;5;241m.\u001b[39m_request_autoscale_view(\u001b[38;5;124m\"\u001b[39m\u001b[38;5;124mx\u001b[39m\u001b[38;5;124m\"\u001b[39m)\n",
      "File \u001b[0;32m~/micromamba/envs/dmae/lib/python3.11/site-packages/matplotlib/axes/_base.py:2309\u001b[0m, in \u001b[0;36m_AxesBase.add_line\u001b[0;34m(self, line)\u001b[0m\n\u001b[1;32m   2306\u001b[0m \u001b[38;5;28;01mif\u001b[39;00m line\u001b[38;5;241m.\u001b[39mget_clip_path() \u001b[38;5;129;01mis\u001b[39;00m \u001b[38;5;28;01mNone\u001b[39;00m:\n\u001b[1;32m   2307\u001b[0m     line\u001b[38;5;241m.\u001b[39mset_clip_path(\u001b[38;5;28mself\u001b[39m\u001b[38;5;241m.\u001b[39mpatch)\n\u001b[0;32m-> 2309\u001b[0m \u001b[38;5;28mself\u001b[39m\u001b[38;5;241m.\u001b[39m_update_line_limits(line)\n\u001b[1;32m   2310\u001b[0m \u001b[38;5;28;01mif\u001b[39;00m \u001b[38;5;129;01mnot\u001b[39;00m line\u001b[38;5;241m.\u001b[39mget_label():\n\u001b[1;32m   2311\u001b[0m     line\u001b[38;5;241m.\u001b[39mset_label(\u001b[38;5;124mf\u001b[39m\u001b[38;5;124m'\u001b[39m\u001b[38;5;124m_child\u001b[39m\u001b[38;5;132;01m{\u001b[39;00m\u001b[38;5;28mlen\u001b[39m(\u001b[38;5;28mself\u001b[39m\u001b[38;5;241m.\u001b[39m_children)\u001b[38;5;132;01m}\u001b[39;00m\u001b[38;5;124m'\u001b[39m)\n",
      "File \u001b[0;32m~/micromamba/envs/dmae/lib/python3.11/site-packages/matplotlib/axes/_base.py:2332\u001b[0m, in \u001b[0;36m_AxesBase._update_line_limits\u001b[0;34m(self, line)\u001b[0m\n\u001b[1;32m   2328\u001b[0m \u001b[38;5;28;01mdef\u001b[39;00m \u001b[38;5;21m_update_line_limits\u001b[39m(\u001b[38;5;28mself\u001b[39m, line):\n\u001b[1;32m   2329\u001b[0m \u001b[38;5;250m    \u001b[39m\u001b[38;5;124;03m\"\"\"\u001b[39;00m\n\u001b[1;32m   2330\u001b[0m \u001b[38;5;124;03m    Figures out the data limit of the given line, updating self.dataLim.\u001b[39;00m\n\u001b[1;32m   2331\u001b[0m \u001b[38;5;124;03m    \"\"\"\u001b[39;00m\n\u001b[0;32m-> 2332\u001b[0m     path \u001b[38;5;241m=\u001b[39m line\u001b[38;5;241m.\u001b[39mget_path()\n\u001b[1;32m   2333\u001b[0m     \u001b[38;5;28;01mif\u001b[39;00m path\u001b[38;5;241m.\u001b[39mvertices\u001b[38;5;241m.\u001b[39msize \u001b[38;5;241m==\u001b[39m \u001b[38;5;241m0\u001b[39m:\n\u001b[1;32m   2334\u001b[0m         \u001b[38;5;28;01mreturn\u001b[39;00m\n",
      "File \u001b[0;32m~/micromamba/envs/dmae/lib/python3.11/site-packages/matplotlib/lines.py:1032\u001b[0m, in \u001b[0;36mLine2D.get_path\u001b[0;34m(self)\u001b[0m\n\u001b[1;32m   1030\u001b[0m \u001b[38;5;250m\u001b[39m\u001b[38;5;124;03m\"\"\"Return the `~matplotlib.path.Path` associated with this line.\"\"\"\u001b[39;00m\n\u001b[1;32m   1031\u001b[0m \u001b[38;5;28;01mif\u001b[39;00m \u001b[38;5;28mself\u001b[39m\u001b[38;5;241m.\u001b[39m_invalidy \u001b[38;5;129;01mor\u001b[39;00m \u001b[38;5;28mself\u001b[39m\u001b[38;5;241m.\u001b[39m_invalidx:\n\u001b[0;32m-> 1032\u001b[0m     \u001b[38;5;28mself\u001b[39m\u001b[38;5;241m.\u001b[39mrecache()\n\u001b[1;32m   1033\u001b[0m \u001b[38;5;28;01mreturn\u001b[39;00m \u001b[38;5;28mself\u001b[39m\u001b[38;5;241m.\u001b[39m_path\n",
      "File \u001b[0;32m~/micromamba/envs/dmae/lib/python3.11/site-packages/matplotlib/lines.py:674\u001b[0m, in \u001b[0;36mLine2D.recache\u001b[0;34m(self, always)\u001b[0m\n\u001b[1;32m    672\u001b[0m \u001b[38;5;28;01mif\u001b[39;00m always \u001b[38;5;129;01mor\u001b[39;00m \u001b[38;5;28mself\u001b[39m\u001b[38;5;241m.\u001b[39m_invalidy:\n\u001b[1;32m    673\u001b[0m     yconv \u001b[38;5;241m=\u001b[39m \u001b[38;5;28mself\u001b[39m\u001b[38;5;241m.\u001b[39mconvert_yunits(\u001b[38;5;28mself\u001b[39m\u001b[38;5;241m.\u001b[39m_yorig)\n\u001b[0;32m--> 674\u001b[0m     y \u001b[38;5;241m=\u001b[39m _to_unmasked_float_array(yconv)\u001b[38;5;241m.\u001b[39mravel()\n\u001b[1;32m    675\u001b[0m \u001b[38;5;28;01melse\u001b[39;00m:\n\u001b[1;32m    676\u001b[0m     y \u001b[38;5;241m=\u001b[39m \u001b[38;5;28mself\u001b[39m\u001b[38;5;241m.\u001b[39m_y\n",
      "File \u001b[0;32m~/micromamba/envs/dmae/lib/python3.11/site-packages/matplotlib/cbook.py:1345\u001b[0m, in \u001b[0;36m_to_unmasked_float_array\u001b[0;34m(x)\u001b[0m\n\u001b[1;32m   1343\u001b[0m     \u001b[38;5;28;01mreturn\u001b[39;00m np\u001b[38;5;241m.\u001b[39mma\u001b[38;5;241m.\u001b[39masarray(x, \u001b[38;5;28mfloat\u001b[39m)\u001b[38;5;241m.\u001b[39mfilled(np\u001b[38;5;241m.\u001b[39mnan)\n\u001b[1;32m   1344\u001b[0m \u001b[38;5;28;01melse\u001b[39;00m:\n\u001b[0;32m-> 1345\u001b[0m     \u001b[38;5;28;01mreturn\u001b[39;00m np\u001b[38;5;241m.\u001b[39masarray(x, \u001b[38;5;28mfloat\u001b[39m)\n",
      "File \u001b[0;32m~/micromamba/envs/dmae/lib/python3.11/site-packages/torch/_tensor.py:1032\u001b[0m, in \u001b[0;36mTensor.__array__\u001b[0;34m(self, dtype)\u001b[0m\n\u001b[1;32m   1030\u001b[0m     \u001b[38;5;28;01mreturn\u001b[39;00m \u001b[38;5;28mself\u001b[39m\u001b[38;5;241m.\u001b[39mnumpy()\n\u001b[1;32m   1031\u001b[0m \u001b[38;5;28;01melse\u001b[39;00m:\n\u001b[0;32m-> 1032\u001b[0m     \u001b[38;5;28;01mreturn\u001b[39;00m \u001b[38;5;28mself\u001b[39m\u001b[38;5;241m.\u001b[39mnumpy()\u001b[38;5;241m.\u001b[39mastype(dtype, copy\u001b[38;5;241m=\u001b[39m\u001b[38;5;28;01mFalse\u001b[39;00m)\n",
      "\u001b[0;31mRuntimeError\u001b[0m: Can't call numpy() on Tensor that requires grad. Use tensor.detach().numpy() instead."
     ]
    },
    {
     "data": {
      "image/png": "[encoded data removed]",
      "text/plain": [
       "<Figure size 500x500 with 1 Axes>"
      ]
     },
     "metadata": {},
     "output_type": "display_data"
    }
   ],
   "source": [
    "\n",
    "pl.figure(3, figsize=(5, 5))\n",
    "ot.plot.plot1D_mat(a, b, Gs, 'UOT matrix Sinkhorn')\n",
    "\n",
    "pl.show()"
   ]
  },
  {
   "cell_type": "code",
   "execution_count": null,
   "metadata": {},
   "outputs": [
    {
     "ename": "NameError",
     "evalue": "name 'x' is not defined",
     "output_type": "error",
     "traceback": [
      "\u001b[0;31m---------------------------------------------------------------------------\u001b[0m",
      "\u001b[0;31mNameError\u001b[0m                                 Traceback (most recent call last)",
      "Cell \u001b[0;32mIn[221], line 2\u001b[0m\n\u001b[1;32m      1\u001b[0m pl\u001b[38;5;241m.\u001b[39mfigure(\u001b[38;5;241m4\u001b[39m, figsize\u001b[38;5;241m=\u001b[39m(\u001b[38;5;241m6.4\u001b[39m, \u001b[38;5;241m3\u001b[39m))\n\u001b[0;32m----> 2\u001b[0m pl\u001b[38;5;241m.\u001b[39mplot(x, a, \u001b[38;5;124m'\u001b[39m\u001b[38;5;124mb\u001b[39m\u001b[38;5;124m'\u001b[39m, label\u001b[38;5;241m=\u001b[39m\u001b[38;5;124m'\u001b[39m\u001b[38;5;124mSource distribution\u001b[39m\u001b[38;5;124m'\u001b[39m)\n\u001b[1;32m      3\u001b[0m pl\u001b[38;5;241m.\u001b[39mplot(x, b, \u001b[38;5;124m'\u001b[39m\u001b[38;5;124mr\u001b[39m\u001b[38;5;124m'\u001b[39m, label\u001b[38;5;241m=\u001b[39m\u001b[38;5;124m'\u001b[39m\u001b[38;5;124mTarget distribution\u001b[39m\u001b[38;5;124m'\u001b[39m)\n\u001b[1;32m      4\u001b[0m pl\u001b[38;5;241m.\u001b[39mfill(x, Gs\u001b[38;5;241m.\u001b[39msum(\u001b[38;5;241m1\u001b[39m), \u001b[38;5;124m'\u001b[39m\u001b[38;5;124mb\u001b[39m\u001b[38;5;124m'\u001b[39m, alpha\u001b[38;5;241m=\u001b[39m\u001b[38;5;241m0.5\u001b[39m, label\u001b[38;5;241m=\u001b[39m\u001b[38;5;124m'\u001b[39m\u001b[38;5;124mTransported source\u001b[39m\u001b[38;5;124m'\u001b[39m)\n",
      "\u001b[0;31mNameError\u001b[0m: name 'x' is not defined"
     ]
    },
    {
     "data": {
      "text/plain": [
       "<Figure size 640x300 with 0 Axes>"
      ]
     },
     "metadata": {},
     "output_type": "display_data"
    }
   ],
   "source": [
    "pl.figure(4, figsize=(6.4, 3))\n",
    "pl.plot(x, a, 'b', label='Source distribution')\n",
    "pl.plot(x, b, 'r', label='Target distribution')\n",
    "pl.fill(x, Gs.sum(1), 'b', alpha=0.5, label='Transported source')\n",
    "pl.fill(x, Gs.sum(0), 'r', alpha=0.5, label='Transported target')\n",
    "pl.legend(loc='upper right')\n",
    "pl.title('Distributions and transported mass for UOT')"
   ]
  },
  {
   "cell_type": "code",
   "execution_count": null,
   "metadata": {},
   "outputs": [],
   "source": []
  }
 ],
 "metadata": {
  "kernelspec": {
   "display_name": "Python 3",
   "language": "python",
   "name": "python3"
  },
  "language_info": {
   "codemirror_mode": {
    "name": "ipython",
    "version": 3
   },
   "file_extension": ".py",
   "mimetype": "text/x-python",
   "name": "python",
   "nbconvert_exporter": "python",
   "pygments_lexer": "ipython3",
   "version": "3.11.5"
  }
 },
 "nbformat": 4,
 "nbformat_minor": 2
}
