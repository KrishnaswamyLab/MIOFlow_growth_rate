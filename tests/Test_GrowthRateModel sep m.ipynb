{
 "cells": [
  {
   "cell_type": "code",
   "execution_count": 1,
   "metadata": {},
   "outputs": [],
   "source": [
    "from MIOFlow.models import make_model\n",
    "import torch"
   ]
  },
  {
   "cell_type": "code",
   "execution_count": 8,
   "metadata": {},
   "outputs": [],
   "source": [
    "batch_size = 4\n",
    "feature_dim = 2\n",
    "output_dim = 2\n",
    "\n",
    "x = torch.randn(batch_size, feature_dim)\n",
    "# m0 = torch.ones(batch_size, 1)\n",
    "# xm = torch.cat([x, m0], dim=1)\n",
    "t = torch.linspace(0, 1, 7)\n",
    "\n",
    "model = make_model(feature_dims=feature_dim, which='ode_growth_rate', separate_network_m=True, m_zero_weight_init=True)\n",
    "# model = make_model(feature_dims=feature_dim, which='ode_growth_rate', separate_network_m=False)"
   ]
  },
  {
   "cell_type": "code",
   "execution_count": 9,
   "metadata": {},
   "outputs": [
    {
     "data": {
      "text/plain": [
       "<bound method ToyODE.__init__.<locals>.seq of ToyODE(\n",
       "  (x_seq): Sequential(\n",
       "    (0): Linear(in_features=5, out_features=64, bias=True)\n",
       "    (1): ReLU()\n",
       "    (2): Linear(in_features=64, out_features=2, bias=True)\n",
       "  )\n",
       "  (m_seq): Sequential(\n",
       "    (0): Linear(in_features=6, out_features=64, bias=True)\n",
       "    (1): ReLU()\n",
       "    (2): Linear(in_features=64, out_features=1, bias=True)\n",
       "  )\n",
       ")>"
      ]
     },
     "execution_count": 9,
     "metadata": {},
     "output_type": "execute_result"
    }
   ],
   "source": [
    "model.func.seq"
   ]
  },
  {
   "cell_type": "code",
   "execution_count": 10,
   "metadata": {},
   "outputs": [
    {
     "data": {
      "text/plain": [
       "<bound method ToyODE.__init__.<locals>.seq of ToyODE(\n",
       "  (x_seq): Sequential(\n",
       "    (0): Linear(in_features=5, out_features=64, bias=True)\n",
       "    (1): ReLU()\n",
       "    (2): Linear(in_features=64, out_features=2, bias=True)\n",
       "  )\n",
       "  (m_seq): Sequential(\n",
       "    (0): Linear(in_features=6, out_features=64, bias=True)\n",
       "    (1): ReLU()\n",
       "    (2): Linear(in_features=64, out_features=1, bias=True)\n",
       "  )\n",
       ")>"
      ]
     },
     "execution_count": 10,
     "metadata": {},
     "output_type": "execute_result"
    }
   ],
   "source": [
    "model.func.seq\n"
   ]
  },
  {
   "cell_type": "code",
   "execution_count": 11,
   "metadata": {},
   "outputs": [
    {
     "data": {
      "text/plain": [
       "tensor([[-0.2548,  0.0792,  0.0000],\n",
       "        [-0.3558,  0.2844,  0.0000],\n",
       "        [ 0.0492, -0.2292,  0.0000],\n",
       "        [-0.2474,  0.1473,  0.0000]], grad_fn=<CatBackward0>)"
      ]
     },
     "execution_count": 11,
     "metadata": {},
     "output_type": "execute_result"
    }
   ],
   "source": [
    "model.func(t[0], torch.cat([x, torch.zeros_like(x[...,-1:])], dim=-1))"
   ]
  },
  {
   "cell_type": "code",
   "execution_count": 12,
   "metadata": {},
   "outputs": [
    {
     "name": "stdout",
     "output_type": "stream",
     "text": [
      "0.weight\n",
      "Parameter containing:\n",
      "tensor([[0., 0., 0., 0., 0., 0.],\n",
      "        [0., 0., 0., 0., 0., 0.],\n",
      "        [0., 0., 0., 0., 0., 0.],\n",
      "        [0., 0., 0., 0., 0., 0.],\n",
      "        [0., 0., 0., 0., 0., 0.],\n",
      "        [0., 0., 0., 0., 0., 0.],\n",
      "        [0., 0., 0., 0., 0., 0.],\n",
      "        [0., 0., 0., 0., 0., 0.],\n",
      "        [0., 0., 0., 0., 0., 0.],\n",
      "        [0., 0., 0., 0., 0., 0.],\n",
      "        [0., 0., 0., 0., 0., 0.],\n",
      "        [0., 0., 0., 0., 0., 0.],\n",
      "        [0., 0., 0., 0., 0., 0.],\n",
      "        [0., 0., 0., 0., 0., 0.],\n",
      "        [0., 0., 0., 0., 0., 0.],\n",
      "        [0., 0., 0., 0., 0., 0.],\n",
      "        [0., 0., 0., 0., 0., 0.],\n",
      "        [0., 0., 0., 0., 0., 0.],\n",
      "        [0., 0., 0., 0., 0., 0.],\n",
      "        [0., 0., 0., 0., 0., 0.],\n",
      "        [0., 0., 0., 0., 0., 0.],\n",
      "        [0., 0., 0., 0., 0., 0.],\n",
      "        [0., 0., 0., 0., 0., 0.],\n",
      "        [0., 0., 0., 0., 0., 0.],\n",
      "        [0., 0., 0., 0., 0., 0.],\n",
      "        [0., 0., 0., 0., 0., 0.],\n",
      "        [0., 0., 0., 0., 0., 0.],\n",
      "        [0., 0., 0., 0., 0., 0.],\n",
      "        [0., 0., 0., 0., 0., 0.],\n",
      "        [0., 0., 0., 0., 0., 0.],\n",
      "        [0., 0., 0., 0., 0., 0.],\n",
      "        [0., 0., 0., 0., 0., 0.],\n",
      "        [0., 0., 0., 0., 0., 0.],\n",
      "        [0., 0., 0., 0., 0., 0.],\n",
      "        [0., 0., 0., 0., 0., 0.],\n",
      "        [0., 0., 0., 0., 0., 0.],\n",
      "        [0., 0., 0., 0., 0., 0.],\n",
      "        [0., 0., 0., 0., 0., 0.],\n",
      "        [0., 0., 0., 0., 0., 0.],\n",
      "        [0., 0., 0., 0., 0., 0.],\n",
      "        [0., 0., 0., 0., 0., 0.],\n",
      "        [0., 0., 0., 0., 0., 0.],\n",
      "        [0., 0., 0., 0., 0., 0.],\n",
      "        [0., 0., 0., 0., 0., 0.],\n",
      "        [0., 0., 0., 0., 0., 0.],\n",
      "        [0., 0., 0., 0., 0., 0.],\n",
      "        [0., 0., 0., 0., 0., 0.],\n",
      "        [0., 0., 0., 0., 0., 0.],\n",
      "        [0., 0., 0., 0., 0., 0.],\n",
      "        [0., 0., 0., 0., 0., 0.],\n",
      "        [0., 0., 0., 0., 0., 0.],\n",
      "        [0., 0., 0., 0., 0., 0.],\n",
      "        [0., 0., 0., 0., 0., 0.],\n",
      "        [0., 0., 0., 0., 0., 0.],\n",
      "        [0., 0., 0., 0., 0., 0.],\n",
      "        [0., 0., 0., 0., 0., 0.],\n",
      "        [0., 0., 0., 0., 0., 0.],\n",
      "        [0., 0., 0., 0., 0., 0.],\n",
      "        [0., 0., 0., 0., 0., 0.],\n",
      "        [0., 0., 0., 0., 0., 0.],\n",
      "        [0., 0., 0., 0., 0., 0.],\n",
      "        [0., 0., 0., 0., 0., 0.],\n",
      "        [0., 0., 0., 0., 0., 0.],\n",
      "        [0., 0., 0., 0., 0., 0.]], requires_grad=True)\n",
      "0.bias\n",
      "Parameter containing:\n",
      "tensor([0., 0., 0., 0., 0., 0., 0., 0., 0., 0., 0., 0., 0., 0., 0., 0., 0., 0., 0., 0., 0., 0., 0., 0.,\n",
      "        0., 0., 0., 0., 0., 0., 0., 0., 0., 0., 0., 0., 0., 0., 0., 0., 0., 0., 0., 0., 0., 0., 0., 0.,\n",
      "        0., 0., 0., 0., 0., 0., 0., 0., 0., 0., 0., 0., 0., 0., 0., 0.],\n",
      "       requires_grad=True)\n",
      "2.weight\n",
      "Parameter containing:\n",
      "tensor([[0., 0., 0., 0., 0., 0., 0., 0., 0., 0., 0., 0., 0., 0., 0., 0., 0., 0., 0., 0., 0., 0., 0., 0.,\n",
      "         0., 0., 0., 0., 0., 0., 0., 0., 0., 0., 0., 0., 0., 0., 0., 0., 0., 0., 0., 0., 0., 0., 0., 0.,\n",
      "         0., 0., 0., 0., 0., 0., 0., 0., 0., 0., 0., 0., 0., 0., 0., 0.]],\n",
      "       requires_grad=True)\n",
      "2.bias\n",
      "Parameter containing:\n",
      "tensor([0.], requires_grad=True)\n"
     ]
    }
   ],
   "source": [
    "for name, param in model.func.m_seq.named_parameters():\n",
    "    print(name)\n",
    "    print(param)"
   ]
  },
  {
   "cell_type": "code",
   "execution_count": 7,
   "metadata": {},
   "outputs": [
    {
     "name": "stdout",
     "output_type": "stream",
     "text": [
      "0.weight\n",
      "Parameter containing:\n",
      "tensor([[0., 0., 0., 0., 0., 0.],\n",
      "        [0., 0., 0., 0., 0., 0.],\n",
      "        [0., 0., 0., 0., 0., 0.],\n",
      "        [0., 0., 0., 0., 0., 0.],\n",
      "        [0., 0., 0., 0., 0., 0.],\n",
      "        [0., 0., 0., 0., 0., 0.],\n",
      "        [0., 0., 0., 0., 0., 0.],\n",
      "        [0., 0., 0., 0., 0., 0.],\n",
      "        [0., 0., 0., 0., 0., 0.],\n",
      "        [0., 0., 0., 0., 0., 0.],\n",
      "        [0., 0., 0., 0., 0., 0.],\n",
      "        [0., 0., 0., 0., 0., 0.],\n",
      "        [0., 0., 0., 0., 0., 0.],\n",
      "        [0., 0., 0., 0., 0., 0.],\n",
      "        [0., 0., 0., 0., 0., 0.],\n",
      "        [0., 0., 0., 0., 0., 0.],\n",
      "        [0., 0., 0., 0., 0., 0.],\n",
      "        [0., 0., 0., 0., 0., 0.],\n",
      "        [0., 0., 0., 0., 0., 0.],\n",
      "        [0., 0., 0., 0., 0., 0.],\n",
      "        [0., 0., 0., 0., 0., 0.],\n",
      "        [0., 0., 0., 0., 0., 0.],\n",
      "        [0., 0., 0., 0., 0., 0.],\n",
      "        [0., 0., 0., 0., 0., 0.],\n",
      "        [0., 0., 0., 0., 0., 0.],\n",
      "        [0., 0., 0., 0., 0., 0.],\n",
      "        [0., 0., 0., 0., 0., 0.],\n",
      "        [0., 0., 0., 0., 0., 0.],\n",
      "        [0., 0., 0., 0., 0., 0.],\n",
      "        [0., 0., 0., 0., 0., 0.],\n",
      "        [0., 0., 0., 0., 0., 0.],\n",
      "        [0., 0., 0., 0., 0., 0.],\n",
      "        [0., 0., 0., 0., 0., 0.],\n",
      "        [0., 0., 0., 0., 0., 0.],\n",
      "        [0., 0., 0., 0., 0., 0.],\n",
      "        [0., 0., 0., 0., 0., 0.],\n",
      "        [0., 0., 0., 0., 0., 0.],\n",
      "        [0., 0., 0., 0., 0., 0.],\n",
      "        [0., 0., 0., 0., 0., 0.],\n",
      "        [0., 0., 0., 0., 0., 0.],\n",
      "        [0., 0., 0., 0., 0., 0.],\n",
      "        [0., 0., 0., 0., 0., 0.],\n",
      "        [0., 0., 0., 0., 0., 0.],\n",
      "        [0., 0., 0., 0., 0., 0.],\n",
      "        [0., 0., 0., 0., 0., 0.],\n",
      "        [0., 0., 0., 0., 0., 0.],\n",
      "        [0., 0., 0., 0., 0., 0.],\n",
      "        [0., 0., 0., 0., 0., 0.],\n",
      "        [0., 0., 0., 0., 0., 0.],\n",
      "        [0., 0., 0., 0., 0., 0.],\n",
      "        [0., 0., 0., 0., 0., 0.],\n",
      "        [0., 0., 0., 0., 0., 0.],\n",
      "        [0., 0., 0., 0., 0., 0.],\n",
      "        [0., 0., 0., 0., 0., 0.],\n",
      "        [0., 0., 0., 0., 0., 0.],\n",
      "        [0., 0., 0., 0., 0., 0.],\n",
      "        [0., 0., 0., 0., 0., 0.],\n",
      "        [0., 0., 0., 0., 0., 0.],\n",
      "        [0., 0., 0., 0., 0., 0.],\n",
      "        [0., 0., 0., 0., 0., 0.],\n",
      "        [0., 0., 0., 0., 0., 0.],\n",
      "        [0., 0., 0., 0., 0., 0.],\n",
      "        [0., 0., 0., 0., 0., 0.],\n",
      "        [0., 0., 0., 0., 0., 0.]], requires_grad=True)\n",
      "0.bias\n",
      "Parameter containing:\n",
      "tensor([0., 0., 0., 0., 0., 0., 0., 0., 0., 0., 0., 0., 0., 0., 0., 0., 0., 0., 0., 0., 0., 0., 0., 0.,\n",
      "        0., 0., 0., 0., 0., 0., 0., 0., 0., 0., 0., 0., 0., 0., 0., 0., 0., 0., 0., 0., 0., 0., 0., 0.,\n",
      "        0., 0., 0., 0., 0., 0., 0., 0., 0., 0., 0., 0., 0., 0., 0., 0.],\n",
      "       requires_grad=True)\n",
      "2.weight\n",
      "Parameter containing:\n",
      "tensor([[0., 0., 0., 0., 0., 0., 0., 0., 0., 0., 0., 0., 0., 0., 0., 0., 0., 0., 0., 0., 0., 0., 0., 0.,\n",
      "         0., 0., 0., 0., 0., 0., 0., 0., 0., 0., 0., 0., 0., 0., 0., 0., 0., 0., 0., 0., 0., 0., 0., 0.,\n",
      "         0., 0., 0., 0., 0., 0., 0., 0., 0., 0., 0., 0., 0., 0., 0., 0.]],\n",
      "       requires_grad=True)\n",
      "2.bias\n",
      "Parameter containing:\n",
      "tensor([0.], requires_grad=True)\n"
     ]
    }
   ],
   "source": [
    "import torch.nn as nn\n",
    "# Initialize the weights and biases to zero\n",
    "def initialize_weights_to_zero(module):\n",
    "    if isinstance(module, nn.Linear):\n",
    "        nn.init.constant_(module.weight, 0)  # Set weights to 0\n",
    "        if module.bias is not None:\n",
    "            nn.init.constant_(module.bias, 0)  # Set biases to 0\n",
    "\n",
    "model.func.m_seq.apply(initialize_weights_to_zero)\n",
    "for name, param in model.func.m_seq.named_parameters():\n",
    "    print(name)\n",
    "    print(param)"
   ]
  },
  {
   "cell_type": "code",
   "execution_count": 22,
   "metadata": {},
   "outputs": [
    {
     "name": "stdout",
     "output_type": "stream",
     "text": [
      "0.weight\n",
      "Parameter containing:\n",
      "tensor([[ 0.0048,  0.3273,  0.4348,  0.1204, -0.2319],\n",
      "        [-0.0075, -0.2204, -0.1344, -0.1951,  0.3626],\n",
      "        [ 0.1237,  0.0964,  0.1845,  0.2165, -0.3192],\n",
      "        [-0.0264, -0.3361, -0.1125, -0.3455,  0.4118],\n",
      "        [ 0.1394, -0.4294,  0.3745, -0.3472,  0.0447],\n",
      "        [ 0.2607,  0.0393, -0.2650,  0.0972,  0.2528],\n",
      "        [-0.1058, -0.0399, -0.2749,  0.1740, -0.2261],\n",
      "        [ 0.3828, -0.2311,  0.1841, -0.3930,  0.3130],\n",
      "        [-0.2697, -0.1342,  0.0775,  0.3068,  0.1175],\n",
      "        [ 0.2770, -0.3291,  0.0030,  0.1903, -0.3391],\n",
      "        [ 0.0373, -0.1743, -0.2382, -0.2386,  0.1323],\n",
      "        [ 0.1945, -0.3674, -0.3558,  0.2039,  0.2534],\n",
      "        [-0.2515,  0.2321,  0.0197,  0.1814, -0.2020],\n",
      "        [ 0.3930, -0.2830, -0.3243, -0.0994,  0.4040],\n",
      "        [ 0.4285, -0.4283,  0.3015, -0.3804,  0.0769],\n",
      "        [-0.3382,  0.0207,  0.1623,  0.3837, -0.0194],\n",
      "        [ 0.1330,  0.0838, -0.0967,  0.3779, -0.1466],\n",
      "        [ 0.3743,  0.2932,  0.0074, -0.0920, -0.1265],\n",
      "        [ 0.0628, -0.0638, -0.1060, -0.4311,  0.1404],\n",
      "        [-0.1581, -0.0168, -0.0419, -0.0472,  0.2699],\n",
      "        [ 0.0083,  0.0131, -0.3687, -0.1428, -0.2315],\n",
      "        [-0.2284,  0.2901, -0.3155,  0.3998, -0.3664],\n",
      "        [ 0.0734,  0.0067, -0.0220,  0.1974, -0.1593],\n",
      "        [-0.0309, -0.0806,  0.0616, -0.4360, -0.4072],\n",
      "        [ 0.1335, -0.0595, -0.0994, -0.3329, -0.3706],\n",
      "        [-0.1923, -0.4315, -0.4080, -0.3758, -0.3106],\n",
      "        [ 0.1533,  0.2116,  0.2816,  0.3560,  0.1204],\n",
      "        [-0.0518,  0.0164, -0.1145, -0.0334,  0.1728],\n",
      "        [-0.0306, -0.2225, -0.1579,  0.4005, -0.4157],\n",
      "        [ 0.3955,  0.0154,  0.1202,  0.2299, -0.4067],\n",
      "        [-0.3173,  0.4265,  0.2225, -0.3766,  0.2149],\n",
      "        [-0.1641, -0.0318,  0.0524, -0.1238, -0.2776],\n",
      "        [-0.2455, -0.2240, -0.2973, -0.2371,  0.3942],\n",
      "        [ 0.2620,  0.3574, -0.3800,  0.2661, -0.2434],\n",
      "        [ 0.3965,  0.3028,  0.1584, -0.4129, -0.3723],\n",
      "        [ 0.2491, -0.3704,  0.2839, -0.2291, -0.1540],\n",
      "        [ 0.1086, -0.4347,  0.2481, -0.2397,  0.1844],\n",
      "        [ 0.3173,  0.0918, -0.3112, -0.2193, -0.4016],\n",
      "        [ 0.2939,  0.3061, -0.4323, -0.0448,  0.3515],\n",
      "        [ 0.0731, -0.1614,  0.1196, -0.1228, -0.1488],\n",
      "        [ 0.1408, -0.4458, -0.3297, -0.2036, -0.3891],\n",
      "        [ 0.2840,  0.3422,  0.2240,  0.0202,  0.3044],\n",
      "        [ 0.1624, -0.4028,  0.1454,  0.3612,  0.0441],\n",
      "        [ 0.4342, -0.3521, -0.3820, -0.2323, -0.2006],\n",
      "        [ 0.3486,  0.2921, -0.2973, -0.0833, -0.3993],\n",
      "        [-0.4343, -0.3530, -0.3201,  0.4124, -0.2974],\n",
      "        [ 0.1998, -0.0046, -0.1573,  0.0102,  0.2807],\n",
      "        [ 0.2438,  0.2665, -0.1405, -0.1549,  0.3938],\n",
      "        [-0.1025, -0.3200, -0.0590, -0.2040, -0.4317],\n",
      "        [-0.2380,  0.0216,  0.0035,  0.4099,  0.1854],\n",
      "        [ 0.0730, -0.3745, -0.4403, -0.2058,  0.2701],\n",
      "        [ 0.3890,  0.0469,  0.3771, -0.1142, -0.2619],\n",
      "        [ 0.2856, -0.3768, -0.3079, -0.2598,  0.1380],\n",
      "        [ 0.0015,  0.2143, -0.2612, -0.1226, -0.1447],\n",
      "        [ 0.2740, -0.2782, -0.0743, -0.3697, -0.0541],\n",
      "        [-0.3823,  0.2948, -0.2804,  0.3065, -0.0428],\n",
      "        [-0.3693,  0.1571,  0.2517, -0.2362,  0.2464],\n",
      "        [ 0.2610, -0.2896, -0.1346,  0.3559, -0.4072],\n",
      "        [-0.0952,  0.3227, -0.1378,  0.2675,  0.4042],\n",
      "        [-0.2280, -0.1216,  0.0793, -0.0164, -0.3827],\n",
      "        [ 0.3922,  0.1768,  0.2813, -0.0608, -0.2198],\n",
      "        [ 0.2979,  0.0329, -0.3594,  0.3416, -0.4133],\n",
      "        [-0.3377,  0.4267, -0.3684,  0.1313, -0.2987],\n",
      "        [ 0.3170, -0.3698,  0.0094, -0.4464, -0.3700]], requires_grad=True)\n",
      "0.bias\n",
      "Parameter containing:\n",
      "tensor([ 0.2271,  0.1251, -0.4206, -0.4345,  0.3290, -0.1170,  0.1648, -0.3811,\n",
      "         0.4455, -0.2643, -0.4135,  0.2668, -0.3880, -0.1267,  0.4453, -0.3310,\n",
      "        -0.0288,  0.1206,  0.2567, -0.0771,  0.2298,  0.1510, -0.0641, -0.0693,\n",
      "         0.1221,  0.1567,  0.1571,  0.0870, -0.3231, -0.1421,  0.2334,  0.1301,\n",
      "         0.4453, -0.3419, -0.2342, -0.3838,  0.1747, -0.0714, -0.2322,  0.3432,\n",
      "         0.1244, -0.2139, -0.4218,  0.0040, -0.3344, -0.4302,  0.0956,  0.4147,\n",
      "         0.1158, -0.3981,  0.3065, -0.1040, -0.0183, -0.0519, -0.2784, -0.3412,\n",
      "        -0.1530, -0.4414,  0.0388,  0.2984,  0.2017, -0.2631, -0.2781,  0.1278],\n",
      "       requires_grad=True)\n",
      "2.weight\n",
      "Parameter containing:\n",
      "tensor([[-0.0810, -0.0800,  0.1081, -0.0840,  0.1062, -0.0768,  0.0430,  0.0397,\n",
      "         -0.1021,  0.0544,  0.1225,  0.1146,  0.0320,  0.0849, -0.0627, -0.0631,\n",
      "         -0.1055,  0.1189, -0.0514, -0.1160, -0.0901, -0.0401,  0.0946,  0.0002,\n",
      "         -0.0201,  0.0735,  0.0658, -0.0963, -0.0260, -0.0823, -0.1087, -0.1208,\n",
      "         -0.0759,  0.0736, -0.0408, -0.0063, -0.0506,  0.1242, -0.1178,  0.1124,\n",
      "          0.1055,  0.0901,  0.0621,  0.0943, -0.0039, -0.0695, -0.0956, -0.0125,\n",
      "          0.1074,  0.0249,  0.0955,  0.0200,  0.0983, -0.0734,  0.0334, -0.0942,\n",
      "          0.1167, -0.0488, -0.0681, -0.0750,  0.0499, -0.0892, -0.0009, -0.0836],\n",
      "        [-0.0394,  0.1090, -0.0519,  0.0929,  0.0792,  0.1048, -0.0876,  0.1083,\n",
      "          0.1143,  0.0917, -0.0672, -0.0424,  0.0262, -0.0761, -0.0078, -0.0146,\n",
      "         -0.0417, -0.0538,  0.1079, -0.0504, -0.0738,  0.0758,  0.0430,  0.0687,\n",
      "          0.0322,  0.1207, -0.0954,  0.1032, -0.0740, -0.0736, -0.0699, -0.0392,\n",
      "          0.1070, -0.0048,  0.0059, -0.0669,  0.1100,  0.1024,  0.0518, -0.0258,\n",
      "         -0.0683,  0.0278,  0.0988,  0.0113, -0.0241,  0.0317, -0.0165,  0.0431,\n",
      "         -0.0016, -0.0744,  0.0459, -0.0047, -0.0705, -0.0558,  0.0039,  0.0182,\n",
      "         -0.0544, -0.0215, -0.1202,  0.0704,  0.1234,  0.1165, -0.0744,  0.0180]],\n",
      "       requires_grad=True)\n",
      "2.bias\n",
      "Parameter containing:\n",
      "tensor([-0.0474, -0.0714], requires_grad=True)\n"
     ]
    }
   ],
   "source": [
    "for name, param in model.func.x_seq.named_parameters():\n",
    "    print(name)\n",
    "    print(param)"
   ]
  },
  {
   "cell_type": "code",
   "execution_count": 7,
   "metadata": {},
   "outputs": [
    {
     "data": {
      "text/plain": [
       "<bound method ToyODE.__init__.<locals>.seq of ToyODE(\n",
       "  (x_seq): Sequential(\n",
       "    (0): Linear(in_features=5, out_features=64, bias=True)\n",
       "    (1): ReLU()\n",
       "    (2): Linear(in_features=64, out_features=2, bias=True)\n",
       "  )\n",
       "  (m_seq): Sequential(\n",
       "    (0): Linear(in_features=6, out_features=64, bias=True)\n",
       "    (1): ReLU()\n",
       "    (2): Linear(in_features=64, out_features=1, bias=True)\n",
       "  )\n",
       ")>"
      ]
     },
     "execution_count": 7,
     "metadata": {},
     "output_type": "execute_result"
    }
   ],
   "source": [
    "model.func.seq"
   ]
  },
  {
   "cell_type": "code",
   "execution_count": 8,
   "metadata": {},
   "outputs": [
    {
     "data": {
      "text/plain": [
       "tensor([[-0.1807,  0.0463,  0.1160],\n",
       "        [ 0.4896,  0.3777, -0.0364],\n",
       "        [-0.2965, -0.0901,  0.1528],\n",
       "        [-0.3334, -0.1018,  0.1542]], grad_fn=<CatBackward0>)"
      ]
     },
     "execution_count": 8,
     "metadata": {},
     "output_type": "execute_result"
    }
   ],
   "source": [
    "xm = torch.cat([x, torch.zeros_like(x[...,-1:])], dim=-1)\n",
    "model.func(t[0], xm)"
   ]
  },
  {
   "cell_type": "code",
   "execution_count": 9,
   "metadata": {},
   "outputs": [
    {
     "data": {
      "text/plain": [
       "torch.Size([4, 2])"
      ]
     },
     "execution_count": 9,
     "metadata": {},
     "output_type": "execute_result"
    }
   ],
   "source": [
    "x.shape"
   ]
  },
  {
   "cell_type": "code",
   "execution_count": 10,
   "metadata": {},
   "outputs": [
    {
     "data": {
      "text/plain": [
       "torch.Size([4, 3])"
      ]
     },
     "execution_count": 10,
     "metadata": {},
     "output_type": "execute_result"
    }
   ],
   "source": [
    "xm.shape"
   ]
  },
  {
   "cell_type": "code",
   "execution_count": 11,
   "metadata": {},
   "outputs": [
    {
     "data": {
      "text/plain": [
       "torch.Size([4, 3])"
      ]
     },
     "execution_count": 11,
     "metadata": {},
     "output_type": "execute_result"
    }
   ],
   "source": [
    "model.func(t[0], xm).shape"
   ]
  },
  {
   "cell_type": "code",
   "execution_count": null,
   "metadata": {},
   "outputs": [],
   "source": []
  },
  {
   "cell_type": "code",
   "execution_count": 12,
   "metadata": {},
   "outputs": [],
   "source": [
    "xtseq, mtseq = model(x, t[[0,-1]], return_whole_sequence=False)"
   ]
  },
  {
   "cell_type": "code",
   "execution_count": 13,
   "metadata": {},
   "outputs": [
    {
     "data": {
      "text/plain": [
       "torch.Size([4, 2])"
      ]
     },
     "execution_count": 13,
     "metadata": {},
     "output_type": "execute_result"
    }
   ],
   "source": [
    "xtseq.shape"
   ]
  },
  {
   "cell_type": "code",
   "execution_count": 14,
   "metadata": {},
   "outputs": [
    {
     "data": {
      "text/plain": [
       "torch.Size([4])"
      ]
     },
     "execution_count": 14,
     "metadata": {},
     "output_type": "execute_result"
    }
   ],
   "source": [
    "mtseq.shape"
   ]
  },
  {
   "cell_type": "code",
   "execution_count": 15,
   "metadata": {},
   "outputs": [
    {
     "ename": "NameError",
     "evalue": "name 'mt' is not defined",
     "output_type": "error",
     "traceback": [
      "\u001b[0;31m---------------------------------------------------------------------------\u001b[0m",
      "\u001b[0;31mNameError\u001b[0m                                 Traceback (most recent call last)",
      "Cell \u001b[0;32mIn[15], line 1\u001b[0m\n\u001b[0;32m----> 1\u001b[0m torch\u001b[38;5;241m.\u001b[39mnn\u001b[38;5;241m.\u001b[39mfunctional\u001b[38;5;241m.\u001b[39msoftmax(mt, dim\u001b[38;5;241m=\u001b[39m\u001b[38;5;241m-\u001b[39m\u001b[38;5;241m1\u001b[39m) \u001b[38;5;241m*\u001b[39m mt\u001b[38;5;241m.\u001b[39mshape[\u001b[38;5;241m-\u001b[39m\u001b[38;5;241m1\u001b[39m]\n",
      "\u001b[0;31mNameError\u001b[0m: name 'mt' is not defined"
     ]
    }
   ],
   "source": [
    "torch.nn.functional.softmax(mt, dim=-1) * mt.shape[-1]"
   ]
  },
  {
   "cell_type": "code",
   "execution_count": null,
   "metadata": {},
   "outputs": [
    {
     "data": {
      "text/plain": [
       "tensor([0.2326, 0.2390, 0.2821, 0.2463], grad_fn=<DivBackward0>)"
      ]
     },
     "execution_count": 10,
     "metadata": {},
     "output_type": "execute_result"
    }
   ],
   "source": [
    "torch.exp(mt)/torch.exp(mt).sum(dim=0)"
   ]
  },
  {
   "cell_type": "code",
   "execution_count": null,
   "metadata": {},
   "outputs": [
    {
     "data": {
      "text/plain": [
       "tensor([[1.0000, 1.0000, 1.0000, 1.0000],\n",
       "        [0.9836, 0.9942, 1.0223, 0.9999],\n",
       "        [0.9699, 0.9876, 1.0432, 0.9992],\n",
       "        [0.9582, 0.9803, 1.0640, 0.9975],\n",
       "        [0.9478, 0.9722, 1.0853, 0.9946],\n",
       "        [0.9387, 0.9638, 1.1069, 0.9907],\n",
       "        [0.9306, 0.9558, 1.1282, 0.9853]], grad_fn=<MulBackward0>)"
      ]
     },
     "execution_count": 11,
     "metadata": {},
     "output_type": "execute_result"
    }
   ],
   "source": [
    "torch.nn.functional.softmax(mtseq, dim=-1) * mtseq.shape[-1]"
   ]
  },
  {
   "cell_type": "code",
   "execution_count": null,
   "metadata": {},
   "outputs": [
    {
     "data": {
      "text/plain": [
       "torch.Size([7, 4, 5])"
      ]
     },
     "execution_count": 12,
     "metadata": {},
     "output_type": "execute_result"
    }
   ],
   "source": [
    "xtseq.shape"
   ]
  },
  {
   "cell_type": "code",
   "execution_count": null,
   "metadata": {},
   "outputs": [
    {
     "data": {
      "text/plain": [
       "torch.Size([7, 4, 1])"
      ]
     },
     "execution_count": 13,
     "metadata": {},
     "output_type": "execute_result"
    }
   ],
   "source": [
    "mtseq.unsqueeze(2).shape"
   ]
  },
  {
   "cell_type": "code",
   "execution_count": null,
   "metadata": {},
   "outputs": [
    {
     "data": {
      "text/plain": [
       "torch.Size([7, 4, 6])"
      ]
     },
     "execution_count": 14,
     "metadata": {},
     "output_type": "execute_result"
    }
   ],
   "source": [
    "xmseq = torch.cat([xtseq, mtseq.unsqueeze(2)], dim=-1)\n",
    "xmseq.shape"
   ]
  },
  {
   "cell_type": "code",
   "execution_count": null,
   "metadata": {},
   "outputs": [],
   "source": [
    "dxdts = torch.stack([model.func(t[i], xmseq[i]) for i in range(len(t))])"
   ]
  },
  {
   "cell_type": "code",
   "execution_count": null,
   "metadata": {},
   "outputs": [
    {
     "data": {
      "text/plain": [
       "torch.Size([7, 4, 6])"
      ]
     },
     "execution_count": 16,
     "metadata": {},
     "output_type": "execute_result"
    }
   ],
   "source": [
    "dxdts.shape"
   ]
  },
  {
   "cell_type": "code",
   "execution_count": null,
   "metadata": {},
   "outputs": [
    {
     "data": {
      "text/plain": [
       "torch.Size([4, 1])"
      ]
     },
     "execution_count": 17,
     "metadata": {},
     "output_type": "execute_result"
    }
   ],
   "source": [
    "mt.unsqueeze(1).shape"
   ]
  },
  {
   "cell_type": "code",
   "execution_count": null,
   "metadata": {},
   "outputs": [
    {
     "data": {
      "text/plain": [
       "ToyODE(\n",
       "  (x_seq): Sequential(\n",
       "    (0): Linear(in_features=8, out_features=64, bias=True)\n",
       "    (1): ReLU()\n",
       "    (2): Linear(in_features=64, out_features=5, bias=True)\n",
       "  )\n",
       "  (m_seq): Sequential(\n",
       "    (0): Linear(in_features=9, out_features=64, bias=True)\n",
       "    (1): ReLU()\n",
       "    (2): Linear(in_features=64, out_features=1, bias=True)\n",
       "  )\n",
       ")"
      ]
     },
     "execution_count": 18,
     "metadata": {},
     "output_type": "execute_result"
    }
   ],
   "source": [
    "model.func"
   ]
  },
  {
   "cell_type": "code",
   "execution_count": null,
   "metadata": {},
   "outputs": [
    {
     "data": {
      "text/plain": [
       "torch.Size([4, 5])"
      ]
     },
     "execution_count": 19,
     "metadata": {},
     "output_type": "execute_result"
    }
   ],
   "source": [
    "xt.shape"
   ]
  },
  {
   "cell_type": "code",
   "execution_count": null,
   "metadata": {},
   "outputs": [
    {
     "data": {
      "text/plain": [
       "torch.Size([4])"
      ]
     },
     "execution_count": 20,
     "metadata": {},
     "output_type": "execute_result"
    }
   ],
   "source": [
    "mt.shape"
   ]
  },
  {
   "cell_type": "code",
   "execution_count": null,
   "metadata": {},
   "outputs": [],
   "source": [
    "xm = torch.cat([xt, mt.unsqueeze(-1)], dim=-1)\n",
    "dxdt = model.func(t[-1], xm)"
   ]
  },
  {
   "cell_type": "code",
   "execution_count": null,
   "metadata": {},
   "outputs": [
    {
     "data": {
      "text/plain": [
       "torch.Size([4, 5])"
      ]
     },
     "execution_count": 22,
     "metadata": {},
     "output_type": "execute_result"
    }
   ],
   "source": [
    "dxdt[...,:-1].shape"
   ]
  },
  {
   "cell_type": "code",
   "execution_count": null,
   "metadata": {},
   "outputs": [
    {
     "data": {
      "text/plain": [
       "torch.Size([7, 4])"
      ]
     },
     "execution_count": 23,
     "metadata": {},
     "output_type": "execute_result"
    }
   ],
   "source": [
    "mtseq.shape"
   ]
  },
  {
   "cell_type": "code",
   "execution_count": null,
   "metadata": {},
   "outputs": [
    {
     "data": {
      "text/plain": [
       "torch.Size([7, 4, 5])"
      ]
     },
     "execution_count": 24,
     "metadata": {},
     "output_type": "execute_result"
    }
   ],
   "source": [
    "xtseq.shape"
   ]
  },
  {
   "cell_type": "code",
   "execution_count": null,
   "metadata": {},
   "outputs": [
    {
     "data": {
      "text/plain": [
       "torch.Size([7])"
      ]
     },
     "execution_count": 25,
     "metadata": {},
     "output_type": "execute_result"
    }
   ],
   "source": [
    "t.shape"
   ]
  },
  {
   "cell_type": "code",
   "execution_count": null,
   "metadata": {},
   "outputs": [
    {
     "data": {
      "text/plain": [
       "tensor([0.0000, 0.1667, 0.3333])"
      ]
     },
     "execution_count": 26,
     "metadata": {},
     "output_type": "execute_result"
    }
   ],
   "source": [
    "t[[0,1,2],...]"
   ]
  },
  {
   "cell_type": "code",
   "execution_count": null,
   "metadata": {},
   "outputs": [
    {
     "data": {
      "text/plain": [
       "torch.Size([4])"
      ]
     },
     "execution_count": 27,
     "metadata": {},
     "output_type": "execute_result"
    }
   ],
   "source": [
    "mt.shape"
   ]
  },
  {
   "cell_type": "code",
   "execution_count": null,
   "metadata": {},
   "outputs": [
    {
     "data": {
      "text/plain": [
       "torch.Size([4, 6])"
      ]
     },
     "execution_count": 28,
     "metadata": {},
     "output_type": "execute_result"
    }
   ],
   "source": [
    "(dxdt * mt.unsqueeze(-1)).shape"
   ]
  },
  {
   "cell_type": "code",
   "execution_count": null,
   "metadata": {},
   "outputs": [
    {
     "data": {
      "text/plain": [
       "torch.Size([7, 4, 6])"
      ]
     },
     "execution_count": 29,
     "metadata": {},
     "output_type": "execute_result"
    }
   ],
   "source": [
    "dxdts.shape"
   ]
  },
  {
   "cell_type": "code",
   "execution_count": null,
   "metadata": {},
   "outputs": [
    {
     "data": {
      "text/plain": [
       "torch.Size([7, 4])"
      ]
     },
     "execution_count": 30,
     "metadata": {},
     "output_type": "execute_result"
    }
   ],
   "source": [
    "mtseq.shape"
   ]
  },
  {
   "cell_type": "code",
   "execution_count": null,
   "metadata": {},
   "outputs": [
    {
     "data": {
      "text/plain": [
       "torch.Size([7, 4, 6])"
      ]
     },
     "execution_count": 31,
     "metadata": {},
     "output_type": "execute_result"
    }
   ],
   "source": [
    "(dxdts * mtseq.unsqueeze(-1)).shape"
   ]
  },
  {
   "cell_type": "code",
   "execution_count": null,
   "metadata": {},
   "outputs": [
    {
     "data": {
      "text/plain": [
       "torch.Size([7, 4])"
      ]
     },
     "execution_count": 32,
     "metadata": {},
     "output_type": "execute_result"
    }
   ],
   "source": [
    "torch.nn.functional.softmax(mtseq, dim=-1).shape"
   ]
  },
  {
   "cell_type": "code",
   "execution_count": null,
   "metadata": {},
   "outputs": [
    {
     "data": {
      "text/plain": [
       "4"
      ]
     },
     "execution_count": 33,
     "metadata": {},
     "output_type": "execute_result"
    }
   ],
   "source": [
    "mtseq.shape[-1]"
   ]
  },
  {
   "cell_type": "code",
   "execution_count": null,
   "metadata": {},
   "outputs": [
    {
     "data": {
      "text/plain": [
       "torch.Size([4])"
      ]
     },
     "execution_count": 34,
     "metadata": {},
     "output_type": "execute_result"
    }
   ],
   "source": [
    "torch.nn.functional.softmax(mt, dim=-1).shape"
   ]
  },
  {
   "cell_type": "code",
   "execution_count": null,
   "metadata": {},
   "outputs": [
    {
     "data": {
      "text/plain": [
       "4"
      ]
     },
     "execution_count": 35,
     "metadata": {},
     "output_type": "execute_result"
    }
   ],
   "source": [
    "mt.shape[-1]"
   ]
  },
  {
   "cell_type": "code",
   "execution_count": null,
   "metadata": {},
   "outputs": [
    {
     "data": {
      "text/plain": [
       "torch.Size([4, 6])"
      ]
     },
     "execution_count": 36,
     "metadata": {},
     "output_type": "execute_result"
    }
   ],
   "source": [
    "def func_end_0(t, x):\n",
    "    xm = model.func(t, x)\n",
    "# mt[[0,2,4,6,8]] = 0.\n",
    "model.func(t[-1], xm).shape"
   ]
  },
  {
   "cell_type": "code",
   "execution_count": null,
   "metadata": {},
   "outputs": [
    {
     "data": {
      "text/plain": [
       "torch.Size([4])"
      ]
     },
     "execution_count": 37,
     "metadata": {},
     "output_type": "execute_result"
    }
   ],
   "source": [
    "xm[...,-1].shape"
   ]
  },
  {
   "cell_type": "code",
   "execution_count": null,
   "metadata": {},
   "outputs": [
    {
     "data": {
      "text/plain": [
       "torch.Size([4, 6])"
      ]
     },
     "execution_count": 38,
     "metadata": {},
     "output_type": "execute_result"
    }
   ],
   "source": [
    "xm.shape"
   ]
  },
  {
   "cell_type": "code",
   "execution_count": null,
   "metadata": {},
   "outputs": [
    {
     "data": {
      "text/plain": [
       "torch.Size([7, 4, 6])"
      ]
     },
     "execution_count": 39,
     "metadata": {},
     "output_type": "execute_result"
    }
   ],
   "source": [
    "xmseq.shape"
   ]
  },
  {
   "cell_type": "code",
   "execution_count": null,
   "metadata": {},
   "outputs": [],
   "source": [
    "xm[[0,2],-1] = 0."
   ]
  },
  {
   "cell_type": "code",
   "execution_count": null,
   "metadata": {},
   "outputs": [
    {
     "data": {
      "text/plain": [
       "tensor([[ 1.8315,  0.1374,  1.7242, -1.9497,  2.6068,  0.0000],\n",
       "        [ 0.8588,  0.0762, -0.1377,  0.2121, -0.5307,  0.8042],\n",
       "        [ 0.2150,  0.5789, -1.3497,  1.5216,  0.8248,  0.0000],\n",
       "        [-0.2267, -0.0918,  0.8110, -1.9355, -0.1192,  0.8346]],\n",
       "       grad_fn=<CopySlices>)"
      ]
     },
     "execution_count": 41,
     "metadata": {},
     "output_type": "execute_result"
    }
   ],
   "source": [
    "xm"
   ]
  },
  {
   "cell_type": "code",
   "execution_count": null,
   "metadata": {},
   "outputs": [],
   "source": [
    "dxmdt = model.func(t[-1], xm)"
   ]
  },
  {
   "cell_type": "code",
   "execution_count": null,
   "metadata": {},
   "outputs": [
    {
     "data": {
      "text/plain": [
       "tensor([[ 0.2918, -0.3380, -0.3800,  0.0608,  0.6475, -0.1845],\n",
       "        [ 0.0560, -0.2139, -0.1045, -0.1400,  0.3072, -0.1385],\n",
       "        [ 0.1257, -0.2282, -0.1437, -0.2760,  0.0311,  0.0013],\n",
       "        [-0.0310, -0.2848, -0.0180,  0.0298,  0.5136, -0.1734]],\n",
       "       grad_fn=<CatBackward0>)"
      ]
     },
     "execution_count": 43,
     "metadata": {},
     "output_type": "execute_result"
    }
   ],
   "source": [
    "dxmdt"
   ]
  },
  {
   "cell_type": "code",
   "execution_count": null,
   "metadata": {},
   "outputs": [
    {
     "data": {
      "text/plain": [
       "torch.Size([4, 6])"
      ]
     },
     "execution_count": 44,
     "metadata": {},
     "output_type": "execute_result"
    }
   ],
   "source": [
    "xm.shape"
   ]
  },
  {
   "cell_type": "code",
   "execution_count": null,
   "metadata": {},
   "outputs": [
    {
     "data": {
      "text/plain": [
       "torch.Size([4, 5])"
      ]
     },
     "execution_count": 45,
     "metadata": {},
     "output_type": "execute_result"
    }
   ],
   "source": [
    "xt.shape"
   ]
  },
  {
   "cell_type": "code",
   "execution_count": null,
   "metadata": {},
   "outputs": [
    {
     "data": {
      "text/plain": [
       "torch.Size([7, 4, 5])"
      ]
     },
     "execution_count": 46,
     "metadata": {},
     "output_type": "execute_result"
    }
   ],
   "source": [
    "xtseq.shape"
   ]
  },
  {
   "cell_type": "code",
   "execution_count": null,
   "metadata": {},
   "outputs": [
    {
     "data": {
      "text/plain": [
       "torch.Size([4, 6])"
      ]
     },
     "execution_count": 47,
     "metadata": {},
     "output_type": "execute_result"
    }
   ],
   "source": [
    "xm.shape"
   ]
  },
  {
   "cell_type": "code",
   "execution_count": null,
   "metadata": {},
   "outputs": [
    {
     "data": {
      "text/plain": [
       "torch.Size([7, 4, 6])"
      ]
     },
     "execution_count": 48,
     "metadata": {},
     "output_type": "execute_result"
    }
   ],
   "source": [
    "xmseq.shape"
   ]
  },
  {
   "cell_type": "code",
   "execution_count": null,
   "metadata": {},
   "outputs": [
    {
     "data": {
      "text/plain": [
       "torch.Size([7, 4, 6])"
      ]
     },
     "execution_count": 49,
     "metadata": {},
     "output_type": "execute_result"
    }
   ],
   "source": [
    "xmseq.shape"
   ]
  },
  {
   "cell_type": "code",
   "execution_count": null,
   "metadata": {},
   "outputs": [
    {
     "data": {
      "text/plain": [
       "torch.Size([4, 6])"
      ]
     },
     "execution_count": 50,
     "metadata": {},
     "output_type": "execute_result"
    }
   ],
   "source": [
    "xm.shape"
   ]
  },
  {
   "cell_type": "code",
   "execution_count": null,
   "metadata": {},
   "outputs": [
    {
     "data": {
      "text/plain": [
       "torch.Size([7, 4, 5])"
      ]
     },
     "execution_count": 51,
     "metadata": {},
     "output_type": "execute_result"
    }
   ],
   "source": [
    "xtseq.shape"
   ]
  },
  {
   "cell_type": "code",
   "execution_count": null,
   "metadata": {},
   "outputs": [
    {
     "data": {
      "text/plain": [
       "torch.Size([7, 4])"
      ]
     },
     "execution_count": 52,
     "metadata": {},
     "output_type": "execute_result"
    }
   ],
   "source": [
    "xtseq.norm(dim=-1).shape"
   ]
  },
  {
   "cell_type": "code",
   "execution_count": null,
   "metadata": {},
   "outputs": [
    {
     "data": {
      "text/plain": [
       "torch.Size([7, 4, 5])"
      ]
     },
     "execution_count": 53,
     "metadata": {},
     "output_type": "execute_result"
    }
   ],
   "source": [
    "(xtseq / xtseq.norm(dim=-1, keepdim=True)).shape"
   ]
  },
  {
   "cell_type": "code",
   "execution_count": null,
   "metadata": {},
   "outputs": [
    {
     "data": {
      "text/plain": [
       "torch.Size([6, 4, 5])"
      ]
     },
     "execution_count": 54,
     "metadata": {},
     "output_type": "execute_result"
    }
   ],
   "source": [
    "torch.diff(xtseq / xtseq.norm(dim=-1, keepdim=True), dim=0).shape"
   ]
  },
  {
   "cell_type": "code",
   "execution_count": null,
   "metadata": {},
   "outputs": [
    {
     "data": {
      "text/plain": [
       "tensor([[[ 0.0094, -0.0153, -0.0119,  0.0105,  0.0177],\n",
       "         [ 0.0287, -0.0231, -0.0009, -0.0035,  0.0185],\n",
       "         [ 0.0107, -0.0098, -0.0166, -0.0093,  0.0032],\n",
       "         [-0.0028, -0.0172,  0.0179,  0.0010,  0.0196]],\n",
       "\n",
       "        [[ 0.0088, -0.0150, -0.0135,  0.0105,  0.0179],\n",
       "         [ 0.0299, -0.0237, -0.0025, -0.0054,  0.0218],\n",
       "         [ 0.0107, -0.0100, -0.0164, -0.0098,  0.0033],\n",
       "         [-0.0019, -0.0170,  0.0165,  0.0009,  0.0227]],\n",
       "\n",
       "        [[ 0.0082, -0.0147, -0.0151,  0.0103,  0.0178],\n",
       "         [ 0.0313, -0.0254, -0.0041, -0.0082,  0.0254],\n",
       "         [ 0.0109, -0.0106, -0.0162, -0.0103,  0.0033],\n",
       "         [-0.0012, -0.0164,  0.0148,  0.0008,  0.0260]],\n",
       "\n",
       "        [[ 0.0076, -0.0143, -0.0165,  0.0100,  0.0175],\n",
       "         [ 0.0329, -0.0284, -0.0057, -0.0116,  0.0296],\n",
       "         [ 0.0110, -0.0112, -0.0161, -0.0109,  0.0034],\n",
       "         [-0.0002, -0.0159,  0.0129,  0.0007,  0.0293]],\n",
       "\n",
       "        [[ 0.0069, -0.0141, -0.0179,  0.0095,  0.0170],\n",
       "         [ 0.0341, -0.0319, -0.0068, -0.0158,  0.0345],\n",
       "         [ 0.0109, -0.0124, -0.0161, -0.0118,  0.0041],\n",
       "         [ 0.0010, -0.0152,  0.0111,  0.0009,  0.0323]],\n",
       "\n",
       "        [[ 0.0063, -0.0139, -0.0193,  0.0090,  0.0165],\n",
       "         [ 0.0346, -0.0350, -0.0074, -0.0206,  0.0402],\n",
       "         [ 0.0106, -0.0137, -0.0162, -0.0129,  0.0052],\n",
       "         [ 0.0020, -0.0147,  0.0094,  0.0014,  0.0349]]],\n",
       "       grad_fn=<SubBackward0>)"
      ]
     },
     "execution_count": 55,
     "metadata": {},
     "output_type": "execute_result"
    }
   ],
   "source": [
    "torch.diff(xtseq / xtseq.norm(dim=-1, keepdim=True), dim=0)"
   ]
  },
  {
   "cell_type": "code",
   "execution_count": null,
   "metadata": {},
   "outputs": [
    {
     "data": {
      "text/plain": [
       "tensor(0.0003, grad_fn=<MeanBackward0>)"
      ]
     },
     "execution_count": 56,
     "metadata": {},
     "output_type": "execute_result"
    }
   ],
   "source": [
    "torch.square(torch.diff(xtseq / xtseq.norm(dim=-1, keepdim=True), dim=0)).mean()"
   ]
  },
  {
   "cell_type": "code",
   "execution_count": null,
   "metadata": {},
   "outputs": [
    {
     "data": {
      "text/plain": [
       "tensor([[[ 0.0094, -0.0153, -0.0119,  0.0105,  0.0177],\n",
       "         [ 0.0287, -0.0231, -0.0009, -0.0035,  0.0185],\n",
       "         [ 0.0107, -0.0098, -0.0166, -0.0093,  0.0032],\n",
       "         [-0.0028, -0.0172,  0.0179,  0.0010,  0.0196]],\n",
       "\n",
       "        [[ 0.0088, -0.0150, -0.0135,  0.0105,  0.0179],\n",
       "         [ 0.0299, -0.0237, -0.0025, -0.0054,  0.0218],\n",
       "         [ 0.0107, -0.0100, -0.0164, -0.0098,  0.0033],\n",
       "         [-0.0019, -0.0170,  0.0165,  0.0009,  0.0227]],\n",
       "\n",
       "        [[ 0.0082, -0.0147, -0.0151,  0.0103,  0.0178],\n",
       "         [ 0.0313, -0.0254, -0.0041, -0.0082,  0.0254],\n",
       "         [ 0.0109, -0.0106, -0.0162, -0.0103,  0.0033],\n",
       "         [-0.0012, -0.0164,  0.0148,  0.0008,  0.0260]],\n",
       "\n",
       "        [[ 0.0076, -0.0143, -0.0165,  0.0100,  0.0175],\n",
       "         [ 0.0329, -0.0284, -0.0057, -0.0116,  0.0296],\n",
       "         [ 0.0110, -0.0112, -0.0161, -0.0109,  0.0034],\n",
       "         [-0.0002, -0.0159,  0.0129,  0.0007,  0.0293]],\n",
       "\n",
       "        [[ 0.0069, -0.0141, -0.0179,  0.0095,  0.0170],\n",
       "         [ 0.0341, -0.0319, -0.0068, -0.0158,  0.0345],\n",
       "         [ 0.0109, -0.0124, -0.0161, -0.0118,  0.0041],\n",
       "         [ 0.0010, -0.0152,  0.0111,  0.0009,  0.0323]],\n",
       "\n",
       "        [[ 0.0063, -0.0139, -0.0193,  0.0090,  0.0165],\n",
       "         [ 0.0346, -0.0350, -0.0074, -0.0206,  0.0402],\n",
       "         [ 0.0106, -0.0137, -0.0162, -0.0129,  0.0052],\n",
       "         [ 0.0020, -0.0147,  0.0094,  0.0014,  0.0349]]],\n",
       "       grad_fn=<SubBackward0>)"
      ]
     },
     "execution_count": 57,
     "metadata": {},
     "output_type": "execute_result"
    }
   ],
   "source": [
    "torch.diff(xtseq / xtseq.norm(dim=-1, keepdim=True), dim=0)"
   ]
  },
  {
   "cell_type": "code",
   "execution_count": null,
   "metadata": {},
   "outputs": [
    {
     "data": {
      "text/plain": [
       "tensor([[ 0.8355,  0.3327,  0.4329,  0.4719],\n",
       "        [-0.1410, -0.6593, -0.5749, -0.5095],\n",
       "        [-1.1208, -1.6442, -1.5795, -1.4876],\n",
       "        [-2.1018, -2.6306, -2.5839, -2.4633],\n",
       "        [-3.0850, -3.6115, -3.5858, -3.4367],\n",
       "        [-4.0656, -4.5891, -4.5742, -4.4106],\n",
       "        [-5.0439, -5.5607, -5.5595, -5.3859]], grad_fn=<SubBackward0>)"
      ]
     },
     "execution_count": 58,
     "metadata": {},
     "output_type": "execute_result"
    }
   ],
   "source": [
    "dxdts.norm(dim=-1) - torch.arange(7).unsqueeze(-1)"
   ]
  },
  {
   "cell_type": "code",
   "execution_count": null,
   "metadata": {},
   "outputs": [],
   "source": []
  }
 ],
 "metadata": {
  "kernelspec": {
   "display_name": "Python 3",
   "language": "python",
   "name": "python3"
  },
  "language_info": {
   "codemirror_mode": {
    "name": "ipython",
    "version": 3
   },
   "file_extension": ".py",
   "mimetype": "text/x-python",
   "name": "python",
   "nbconvert_exporter": "python",
   "pygments_lexer": "ipython3",
   "version": "3.11.5"
  }
 },
 "nbformat": 4,
 "nbformat_minor": 2
}
